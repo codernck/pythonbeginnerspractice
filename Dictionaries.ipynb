{
 "cells": [
  {
   "cell_type": "code",
   "execution_count": 1,
   "id": "fe0cd993",
   "metadata": {},
   "outputs": [
    {
     "name": "stdout",
     "output_type": "stream",
     "text": [
      "green\n",
      "5\n"
     ]
    }
   ],
   "source": [
    "# dictionary is like map in java\n",
    "# it will have key-value pairs\n",
    "#simple dictionalry\n",
    "alien_0 = {'color':'green', 'points':5}\n",
    "print(alien_0['color'])\n",
    "print(alien_0['points'])\n"
   ]
  },
  {
   "cell_type": "code",
   "execution_count": 4,
   "id": "cd018a9f",
   "metadata": {},
   "outputs": [
    {
     "name": "stdout",
     "output_type": "stream",
     "text": [
      "green\n"
     ]
    }
   ],
   "source": [
    "# a dcitionary key should be only string or number pr tuple - and tuple also should have only string and number\n",
    "# a dictionary value can be number, string, list, even dictionary or any object in python\n",
    "alien_00 = {'color':'green'}\n",
    "print(alien_00['color'])"
   ]
  },
  {
   "cell_type": "code",
   "execution_count": 5,
   "id": "029c075a",
   "metadata": {},
   "outputs": [
    {
     "name": "stdout",
     "output_type": "stream",
     "text": [
      "You just earned 5 points!\n"
     ]
    }
   ],
   "source": [
    "# we can assign the dictionary values to other variables\n",
    "alien_0 = {'color':'green', 'points':5}\n",
    "new_points = alien_0['points']\n",
    "\n",
    "print(f\"You just earned {new_points} points!\")"
   ]
  },
  {
   "cell_type": "code",
   "execution_count": 7,
   "id": "c4f35ffd",
   "metadata": {},
   "outputs": [
    {
     "name": "stdout",
     "output_type": "stream",
     "text": [
      "Before:  {'color': 'green', 'points': 5}\n",
      "After:  {'color': 'green', 'points': 5, 'x_position': 0, 'y_position': 25}\n"
     ]
    }
   ],
   "source": [
    "# adding new key-value pairs\n",
    "alien_0 = {'color':'green', 'points':5}\n",
    "print('Before: ', alien_0)\n",
    "\n",
    "alien_0['x_position'] = 0\n",
    "alien_0['y_position'] = 25\n",
    "print('After: ', alien_0)    "
   ]
  },
  {
   "cell_type": "code",
   "execution_count": 8,
   "id": "b7faec2e",
   "metadata": {},
   "outputs": [
    {
     "name": "stdout",
     "output_type": "stream",
     "text": [
      "{'color': 'green', 'pioints': 5}\n"
     ]
    }
   ],
   "source": [
    "# starting with empty directory\n",
    "alien_0 = {}\n",
    "alien_0['color'] = 'green'\n",
    "alien_0['pioints'] = 5\n",
    "\n",
    "print(alien_0)"
   ]
  },
  {
   "cell_type": "code",
   "execution_count": 10,
   "id": "544a7f1f",
   "metadata": {},
   "outputs": [
    {
     "name": "stdout",
     "output_type": "stream",
     "text": [
      "The color of alien is green\n",
      "Now The new color of alien is yellow\n"
     ]
    }
   ],
   "source": [
    "# modifying the values of directory\n",
    "alien_0 = {'color':'green', 'points':5}\n",
    "print(f\"The color of alien is {alien_0['color']}\")\n",
    "alien_0['color'] = 'yellow'\n",
    "print(f\"Now The new color of alien is {alien_0['color']}\")"
   ]
  },
  {
   "cell_type": "code",
   "execution_count": 12,
   "id": "87412e16",
   "metadata": {},
   "outputs": [
    {
     "name": "stdout",
     "output_type": "stream",
     "text": [
      "Original position: 0\n",
      "New position: 2\n"
     ]
    }
   ],
   "source": [
    "# simulating the game \n",
    "alien_0 = {'x_position': 0, 'y_position': 25, 'speed': 'medium'}\n",
    "print(f\"Original position: {alien_0['x_position']}\")\n",
    "\n",
    "# move the alien to right, determine how far by speed of the alien\n",
    "if alien_0['speed'] == 'slow':\n",
    "    x_increment = 1\n",
    "elif alien_0['speed'] == 'medium':\n",
    "    x_increment = 2\n",
    "else:\n",
    "    x_increment = 3 #fast alien\n",
    "\n",
    "# new position will be old-position plus increment\n",
    "alien_0['x_position'] = alien_0['x_position'] + x_increment\n",
    "\n",
    "print(f\"New position: {alien_0['x_position']}\")\n",
    "\n",
    "\n"
   ]
  },
  {
   "cell_type": "code",
   "execution_count": 14,
   "id": "c8978399",
   "metadata": {},
   "outputs": [
    {
     "name": "stdout",
     "output_type": "stream",
     "text": [
      "{'color': 'green', 'points': 5}\n",
      "{'color': 'green'}\n"
     ]
    }
   ],
   "source": [
    "# removing the key-value pairs\n",
    "alien_0 = {'color': 'green', 'points': 5}\n",
    "print(alien_0)\n",
    "\n",
    "# deleting a key\n",
    "del alien_0['points']\n",
    "print(alien_0)\n"
   ]
  },
  {
   "cell_type": "code",
   "execution_count": 16,
   "id": "7710ac4d",
   "metadata": {},
   "outputs": [
    {
     "name": "stdout",
     "output_type": "stream",
     "text": [
      "Sarah's favorite language is C\n"
     ]
    }
   ],
   "source": [
    "# dictionary with simlar objects\n",
    "favorite_languages = {\n",
    "'jen': 'python',\n",
    "'sarah': 'c',\n",
    "'edward': 'rust',\n",
    "'phil': 'python',\n",
    "}\n",
    "\n",
    "language = favorite_languages['sarah'].title()\n",
    "print(f\"Sarah's favorite language is {language}\")"
   ]
  },
  {
   "cell_type": "code",
   "execution_count": 22,
   "id": "fc8c0ad6",
   "metadata": {},
   "outputs": [
    {
     "name": "stdout",
     "output_type": "stream",
     "text": [
      "None\n",
      "No speed value assigned.\n"
     ]
    }
   ],
   "source": [
    "# using get to access the values\n",
    "alien_0 = {'color':'green', 'points':5}\n",
    "# alien_0['speed'] # this will be error\n",
    "\n",
    "# to avoid this error we can use as below\n",
    "speed = alien_0.get('speed')\n",
    "print(speed)\n",
    "\n",
    "# also we an assign the default value\n",
    "speed = alien_0.get('speed', 'No speed value assigned.')\n",
    "print(speed)\n"
   ]
  },
  {
   "cell_type": "code",
   "execution_count": 25,
   "id": "ca78b1b9",
   "metadata": {},
   "outputs": [
    {
     "name": "stdout",
     "output_type": "stream",
     "text": [
      "Jon\n",
      "Michael\n",
      "49\n",
      "Newark\n"
     ]
    }
   ],
   "source": [
    "#exercise\n",
    "person = {'first_name':'Jon', 'last_name':'Michael', 'age': 49, 'city':'Newark'}\n",
    "print(person['first_name'])\n",
    "print(person['last_name'])\n",
    "print(person['age'])\n",
    "print(person['city'])"
   ]
  },
  {
   "cell_type": "code",
   "execution_count": 27,
   "id": "8b7f929d",
   "metadata": {},
   "outputs": [
    {
     "name": "stdout",
     "output_type": "stream",
     "text": [
      "Favorite number of Jon is 1\n",
      "Favorite number of Kelly is 25\n",
      "Favorite number of Seb is 4\n",
      "Favorite number of Jake is 9\n",
      "Favorite number of Sal is 8\n"
     ]
    }
   ],
   "source": [
    "#exercise\n",
    "fav_nums = {'Jon':1, 'Kelly':25, 'Seb': 4, 'Jake':9, 'Sal':8}\n",
    "print(f\"Favorite number of Jon is {fav_nums['Jon']}\")\n",
    "print(f\"Favorite number of Kelly is {fav_nums['Kelly']}\")\n",
    "print(f\"Favorite number of Seb is {fav_nums['Seb']}\")\n",
    "print(f\"Favorite number of Jake is {fav_nums['Jake']}\")\n",
    "print(f\"Favorite number of Sal is {fav_nums['Sal']}\")"
   ]
  },
  {
   "cell_type": "code",
   "execution_count": 29,
   "id": "205ca9c6",
   "metadata": {},
   "outputs": [
    {
     "name": "stdout",
     "output_type": "stream",
     "text": [
      "\n",
      "Key: username\n",
      "Value: efermi\n",
      "\n",
      "Key: first\n",
      "Value: enrico\n",
      "\n",
      "Key: last\n",
      "Value: fermi\n"
     ]
    }
   ],
   "source": [
    "# looping through dictionary\n",
    "user_0 = {\n",
    "'username': 'efermi',\n",
    "'first': 'enrico',\n",
    "'last': 'fermi',\n",
    "}\n",
    "\n",
    "#using for loop\n",
    "for key, value in user_0.items():\n",
    "    print(f\"\\nKey: {key}\")\n",
    "    print(f\"Value: {value}\")"
   ]
  },
  {
   "cell_type": "code",
   "execution_count": 35,
   "id": "1027c755",
   "metadata": {},
   "outputs": [
    {
     "name": "stdout",
     "output_type": "stream",
     "text": [
      "Jen's favorite language is Python\n",
      "Sarah's favorite language is C\n",
      "Edward's favorite language is Rust\n",
      "Phil's favorite language is Python\n"
     ]
    }
   ],
   "source": [
    "favorite_languages = {\n",
    "'jen': 'python',\n",
    "'sarah': 'c',\n",
    "'edward': 'rust',\n",
    "'phil': 'python',\n",
    "}\n",
    "\n",
    "for name,fav_lang in favorite_languages.items():\n",
    "    print(f\"{name.title()}'s favorite language is {fav_lang.title()}\")"
   ]
  },
  {
   "cell_type": "code",
   "execution_count": 36,
   "id": "c2f38179",
   "metadata": {},
   "outputs": [
    {
     "name": "stdout",
     "output_type": "stream",
     "text": [
      "Jen\n",
      "Sarah\n",
      "Edward\n",
      "Phil\n"
     ]
    }
   ],
   "source": [
    "#looping through keys\n",
    "favorite_languages = {\n",
    "'jen': 'python',\n",
    "'sarah': 'c',\n",
    "'edward': 'rust',\n",
    "'phil': 'python',\n",
    "}\n",
    "\n",
    "for name in favorite_languages.keys():\n",
    "    print(f\"{name.title()}\")"
   ]
  },
  {
   "cell_type": "code",
   "execution_count": 37,
   "id": "77f8fc2e",
   "metadata": {},
   "outputs": [
    {
     "name": "stdout",
     "output_type": "stream",
     "text": [
      "Jen\n",
      "Sarah\n",
      "Edward\n",
      "Phil\n"
     ]
    }
   ],
   "source": [
    "# by default the looping takes keys of dictionary\n",
    "favorite_languages = {\n",
    "'jen': 'python',\n",
    "'sarah': 'c',\n",
    "'edward': 'rust',\n",
    "'phil': 'python',\n",
    "}\n",
    "\n",
    "for name in favorite_languages:\n",
    "    print(f\"{name.title()}\")"
   ]
  },
  {
   "cell_type": "code",
   "execution_count": 38,
   "id": "f4e48ce8",
   "metadata": {},
   "outputs": [
    {
     "name": "stdout",
     "output_type": "stream",
     "text": [
      "Jen fovorite language is Python\n",
      "Sarah fovorite language is C\n",
      "Edward fovorite language is Rust\n",
      "Phil fovorite language is Python\n"
     ]
    }
   ],
   "source": [
    "# accessing the values using the keys\n",
    "# by default the looping takes keys of dictionary\n",
    "favorite_languages = {\n",
    "'jen': 'python',\n",
    "'sarah': 'c',\n",
    "'edward': 'rust',\n",
    "'phil': 'python',\n",
    "}\n",
    "\n",
    "for name in favorite_languages:\n",
    "    print(f\"{name.title()} fovorite language is {favorite_languages[name].title()}\")"
   ]
  },
  {
   "cell_type": "code",
   "execution_count": 41,
   "id": "97ff0730",
   "metadata": {},
   "outputs": [
    {
     "name": "stdout",
     "output_type": "stream",
     "text": [
      "Hi Jen\n",
      "Hi Sarah\n",
      "\tSarah, I see you love C!\n",
      "Hi Edward\n",
      "Hi Phil\n",
      "\tPhil, I see you love Python!\n",
      "Erin, is not present in the dictionary\n",
      "Erin, please take the poll!\n"
     ]
    }
   ],
   "source": [
    "# simulating the poll game\n",
    "friends = ['phil', 'sarah']\n",
    "\n",
    "for name in favorite_languages:\n",
    "    print(f\"Hi {name.title()}\")\n",
    "    if name in friends:\n",
    "        language = favorite_languages[name].title()\n",
    "        print(f\"\\t{name.title()}, I see you love {language}!\")\n",
    "        \n",
    "\n",
    "# keys can also be used to find if data is present in map or not\n",
    "if 'erin' not in favorite_languages.keys():\n",
    "    print('Erin, is not present in the dictionary')\n",
    "    print('Erin, please take the poll!')\n"
   ]
  },
  {
   "cell_type": "code",
   "execution_count": 42,
   "id": "4d68d08d",
   "metadata": {},
   "outputs": [
    {
     "name": "stdout",
     "output_type": "stream",
     "text": [
      "Edward, thank you for the poll, you have selected Rust\n",
      "Jen, thank you for the poll, you have selected Python\n",
      "Phil, thank you for the poll, you have selected Python\n",
      "Sarah, thank you for the poll, you have selected C\n"
     ]
    }
   ],
   "source": [
    "# when we are looping the dictoinary keys we get them in the order we have inserted\n",
    "# to modify the order we can use the sort function for instance like below\n",
    "favorite_languages = {\n",
    "'jen': 'python',\n",
    "'sarah': 'c',\n",
    "'edward': 'rust',\n",
    "'phil': 'python',\n",
    "}\n",
    "\n",
    "for name in sorted(favorite_languages.keys()):\n",
    "    print(f\"{name.title()}, thank you for the poll, you have selected {favorite_languages[name].title()}\")"
   ]
  },
  {
   "cell_type": "code",
   "execution_count": 43,
   "id": "12ae21ae",
   "metadata": {},
   "outputs": [
    {
     "name": "stdout",
     "output_type": "stream",
     "text": [
      "The following languages are mentioned.\n",
      "Python\n",
      "C\n",
      "Rust\n",
      "Python\n"
     ]
    }
   ],
   "source": [
    "# looping through the values\n",
    "favorite_languages = {\n",
    "'jen': 'python',\n",
    "'sarah': 'c',\n",
    "'edward': 'rust',\n",
    "'phil': 'python',\n",
    "}\n",
    "\n",
    "print('The following languages are mentioned.')\n",
    "for lang in favorite_languages.values():\n",
    "    print(lang.title())"
   ]
  },
  {
   "cell_type": "code",
   "execution_count": 44,
   "id": "f2dd3a53",
   "metadata": {},
   "outputs": [
    {
     "name": "stdout",
     "output_type": "stream",
     "text": [
      "Python\n",
      "C\n",
      "Rust\n"
     ]
    }
   ],
   "source": [
    "# the values of the dictionary can be duplicate to get the unique values use set as below\n",
    "favorite_languages = {\n",
    "'jen': 'python',\n",
    "'sarah': 'c',\n",
    "'edward': 'rust',\n",
    "'phil': 'python',\n",
    "}\n",
    "\n",
    "for lang in set(favorite_languages.values()):\n",
    "    print(lang.title())\n"
   ]
  },
  {
   "cell_type": "code",
   "execution_count": 45,
   "id": "9b149911",
   "metadata": {},
   "outputs": [
    {
     "data": {
      "text/plain": [
       "{'c', 'java', 'python', 'rust'}"
      ]
     },
     "execution_count": 45,
     "metadata": {},
     "output_type": "execute_result"
    }
   ],
   "source": [
    "# sets also are enclosed in flower-braces same like dictionaries\n",
    "# sets do not retain the order, only lists and dictionaries preserve order\n",
    "lang_set = {'python', 'rust', 'c', 'java', 'python'}\n",
    "lang_set\n",
    "#sets can have duplicates"
   ]
  },
  {
   "cell_type": "code",
   "execution_count": 49,
   "id": "1a860b5e",
   "metadata": {},
   "outputs": [
    {
     "name": "stdout",
     "output_type": "stream",
     "text": [
      "first_name - Jon\n",
      "last_name - Michael\n",
      "age - 49\n",
      "city - Newark\n"
     ]
    }
   ],
   "source": [
    "# exercise\n",
    "person = {'first_name':'Jon', 'last_name':'Michael', 'age': 49, 'city':'Newark'}\n",
    "for key in person:\n",
    "    print(f\"{key} - {person[key]}\")\n",
    "\n",
    "# fav_nums = {'Jon':1, 'Kelly':25, 'Seb': 4, 'Jake':9, 'Sal':8}\n",
    "\n"
   ]
  },
  {
   "cell_type": "code",
   "execution_count": 52,
   "id": "9f713260",
   "metadata": {},
   "outputs": [
    {
     "name": "stdout",
     "output_type": "stream",
     "text": [
      "The Nile runs through Egypt\n",
      "The Amazon runs through South America\n",
      "The Yangtze runs through China\n",
      "The Ganges runs through India\n",
      "The Mississippi runs through North America\n",
      "The Yenisei runs through Russia\n",
      "-------------------------------\n",
      "Nile\n",
      "Amazon\n",
      "Yangtze\n",
      "Ganges\n",
      "Mississippi\n",
      "Yenisei\n",
      "-------------------------------\n",
      "Egypt\n",
      "South America\n",
      "China\n",
      "India\n",
      "North America\n",
      "Russia\n"
     ]
    }
   ],
   "source": [
    "rivers = {'Nile':'Egypt', 'Amazon':'South America', 'Yangtze':'China','Ganges':'India','Mississippi':'North America', 'Yenisei':'Russia' }\n",
    "\n",
    "for river in rivers:\n",
    "    print(f\"The {river} runs through {rivers[river].title()}\")\n",
    "\n",
    "print('-------------------------------')\n",
    "\n",
    "for river in rivers.keys():\n",
    "    print(river.title())\n",
    "\n",
    "print('-------------------------------')\n",
    "\n",
    "for country in rivers.values():\n",
    "    print(country.title())"
   ]
  },
  {
   "cell_type": "markdown",
   "id": "d0e8c925",
   "metadata": {},
   "source": [
    "### Nesting "
   ]
  },
  {
   "cell_type": "code",
   "execution_count": 58,
   "id": "ef8ed0ad",
   "metadata": {},
   "outputs": [
    {
     "name": "stdout",
     "output_type": "stream",
     "text": [
      "[{'color': 'green', 'points': 5}, {'color': 'yellow', 'points': 10}, {'color': 'red', 'points': 15}]\n",
      "--------------------\n",
      "{'color': 'green', 'points': 5}\n",
      "{'color': 'yellow', 'points': 10}\n",
      "{'color': 'red', 'points': 15}\n"
     ]
    }
   ],
   "source": [
    "# list of dictionaries\n",
    "alien_0 = {'color': 'green', 'points': 5}\n",
    "alien_1 = {'color': 'yellow', 'points': 10}\n",
    "alien_2 = {'color': 'red', 'points': 15}\n",
    "\n",
    "aliens = [alien_0, alien_1, alien_2]\n",
    "print(aliens)\n",
    "\n",
    "print('--------------------')\n",
    "\n",
    "for alien in aliens:\n",
    "    print(alien)"
   ]
  },
  {
   "cell_type": "code",
   "execution_count": 59,
   "id": "933bbfa5",
   "metadata": {},
   "outputs": [
    {
     "name": "stdout",
     "output_type": "stream",
     "text": [
      "{'color': 'green', 'points': 5, 'speed': 'medium'}\n",
      "{'color': 'green', 'points': 5, 'speed': 'medium'}\n",
      "{'color': 'green', 'points': 5, 'speed': 'medium'}\n",
      "{'color': 'green', 'points': 5, 'speed': 'medium'}\n",
      "{'color': 'green', 'points': 5, 'speed': 'medium'}\n",
      "----------------\n",
      "Total number of aliens: 30\n"
     ]
    }
   ],
   "source": [
    "# real tie game simulation\n",
    "# make empty list for storing aliens\n",
    "aliens = []\n",
    "\n",
    "# make 30 aliens\n",
    "for alien_number in range(30):\n",
    "    new_alien = {'color':'green', 'points':5, 'speed':'medium'}\n",
    "    aliens.append(new_alien)\n",
    "\n",
    "# show the first 5 aliens\n",
    "for alien in aliens[:5]:\n",
    "    print(alien)\n",
    "print(\"----------------\")\n",
    "\n",
    "# show how many aliens were created\n",
    "print(f\"Total number of aliens: {len(aliens)}\")"
   ]
  },
  {
   "cell_type": "code",
   "execution_count": 60,
   "id": "cff9de61",
   "metadata": {},
   "outputs": [
    {
     "name": "stdout",
     "output_type": "stream",
     "text": [
      "----------------\n",
      "{'color': 'yellow', 'points': 10, 'speed': 'medium'}\n",
      "{'color': 'yellow', 'points': 10, 'speed': 'medium'}\n",
      "{'color': 'yellow', 'points': 10, 'speed': 'medium'}\n",
      "{'color': 'green', 'points': 5, 'speed': 'medium'}\n",
      "{'color': 'green', 'points': 5, 'speed': 'medium'}\n",
      "----------------\n"
     ]
    }
   ],
   "source": [
    "# change the first 3 aliens\n",
    "for alien in aliens[0:3]:\n",
    "    if alien['color'] == 'green':\n",
    "        alien['color'] = 'yellow'\n",
    "        alien['speed'] = 'medium'\n",
    "        alien['points'] = 10\n",
    "\n",
    "print(\"----------------\")        \n",
    "# show the first 5 aliens\n",
    "for alien in aliens[:5]:\n",
    "    print(alien)\n",
    "print(\"----------------\")\n",
    "        "
   ]
  },
  {
   "cell_type": "code",
   "execution_count": 61,
   "id": "0bee2c48",
   "metadata": {},
   "outputs": [
    {
     "name": "stdout",
     "output_type": "stream",
     "text": [
      "You ordered a thick - crust pizza with the following toppings.\n",
      "\tmushroom\n",
      "\textra cheese\n"
     ]
    }
   ],
   "source": [
    "# list inside the dictionary\n",
    "pizza  = {'crust': 'thick',\n",
    "          'toppings':['mushroom', 'extra cheese'],}\n",
    "\n",
    "#summarize the orders\n",
    "print(f\"You ordered a {pizza['crust']} - crust pizza with the following toppings.\")\n",
    "for topping in pizza['toppings']:\n",
    "    print(f\"\\t{topping}\")"
   ]
  },
  {
   "cell_type": "code",
   "execution_count": 62,
   "id": "aa2a46a9",
   "metadata": {},
   "outputs": [
    {
     "name": "stdout",
     "output_type": "stream",
     "text": [
      "\n",
      "Jen's favorite languages are:\n",
      "\tPython\n",
      "\tRust\n",
      "\n",
      "Sarah's favorite languages are:\n",
      "\tC\n",
      "\n",
      "Edward's favorite languages are:\n",
      "\tRust\n",
      "\tGo\n",
      "\n",
      "Phil's favorite languages are:\n",
      "\tPython\n",
      "\tHaskell\n"
     ]
    }
   ],
   "source": [
    "favorite_languages = {\n",
    "'jen': ['python', 'rust'],\n",
    "'sarah': ['c'],\n",
    "'edward': ['rust', 'go'],\n",
    "'phil': ['python', 'haskell'],\n",
    "}\n",
    "\n",
    "for name, languages in favorite_languages.items():\n",
    "    print(f\"\\n{name.title()}'s favorite languages are:\")\n",
    "    for lang in languages:\n",
    "        print(f\"\\t{lang.title()}\")"
   ]
  },
  {
   "cell_type": "code",
   "execution_count": 63,
   "id": "63c00448",
   "metadata": {},
   "outputs": [
    {
     "name": "stdout",
     "output_type": "stream",
     "text": [
      "\n",
      "Username: aeinstein\n",
      "\tFull Name: Alberteinstein\n",
      "\tLocation: Princeton\n",
      "\n",
      "Username: mcurie\n",
      "\tFull Name: Mariecurie\n",
      "\tLocation: Paris\n"
     ]
    }
   ],
   "source": [
    "# dictionary inside a dictionary\n",
    "users = {\n",
    "'aeinstein': {\n",
    "'first': 'albert',\n",
    "'last': 'einstein',\n",
    "'location': 'princeton',\n",
    "},\n",
    "'mcurie': {\n",
    "'first': 'marie',\n",
    "'last': 'curie',\n",
    "'location': 'paris',\n",
    "},\n",
    "}\n",
    "\n",
    "for username, user_info in users.items():\n",
    "    print(f\"\\nUsername: {username}\")\n",
    "    full_name = f\"{user_info['first']}{user_info['last']}\"\n",
    "    location = user_info['location']\n",
    "    \n",
    "    print(f\"\\tFull Name: {full_name.title()}\")\n",
    "    print(f\"\\tLocation: {location.title()}\")"
   ]
  },
  {
   "cell_type": "code",
   "execution_count": 68,
   "id": "a1f0d868",
   "metadata": {},
   "outputs": [
    {
     "name": "stdout",
     "output_type": "stream",
     "text": [
      "\n",
      "Jon Rambo\n",
      "\tAge: 49\n",
      "\tcity: Arizona\n",
      "\n",
      "Jon Wick\n",
      "\tAge: 52\n",
      "\tcity: Belarus\n",
      "\n",
      "Wednesday Adams\n",
      "\tAge: 13\n",
      "\tcity: Newark\n"
     ]
    }
   ],
   "source": [
    "# exercise\n",
    "person_0 = {'first_name':'Jon', 'last_name':'Rambo', 'age': 49, 'city':'Arizona'}\n",
    "person_1 = {'first_name':'Jon', 'last_name':'Wick', 'age': 52, 'city':'Belarus'}\n",
    "person_2 = {'first_name':'Wednesday', 'last_name':'Adams', 'age': 13, 'city':'Newark'}\n",
    "\n",
    "persons = [person_0, person_1, person_2]\n",
    "\n",
    "for person in persons:\n",
    "    full_name = f\"{person['first_name']} {person['last_name']}\"\n",
    "    print(f\"\\n{full_name}\")\n",
    "    print(f\"\\tAge: {person['age']}\")\n",
    "    print(f\"\\tcity: {person['city']}\")      "
   ]
  },
  {
   "cell_type": "code",
   "execution_count": null,
   "id": "61a44ff4",
   "metadata": {},
   "outputs": [],
   "source": []
  }
 ],
 "metadata": {
  "kernelspec": {
   "display_name": "Python 3 (ipykernel)",
   "language": "python",
   "name": "python3"
  },
  "language_info": {
   "codemirror_mode": {
    "name": "ipython",
    "version": 3
   },
   "file_extension": ".py",
   "mimetype": "text/x-python",
   "name": "python",
   "nbconvert_exporter": "python",
   "pygments_lexer": "ipython3",
   "version": "3.9.13"
  }
 },
 "nbformat": 4,
 "nbformat_minor": 5
}
