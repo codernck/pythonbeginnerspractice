{
 "cells": [
  {
   "cell_type": "code",
   "execution_count": 1,
   "id": "3cc023c2",
   "metadata": {},
   "outputs": [
    {
     "name": "stdout",
     "output_type": "stream",
     "text": [
      "hello world\n"
     ]
    }
   ],
   "source": [
    "# Basics\n",
    "print(\"hello world\")"
   ]
  },
  {
   "cell_type": "code",
   "execution_count": 2,
   "id": "96a5c5d4",
   "metadata": {},
   "outputs": [
    {
     "name": "stdout",
     "output_type": "stream",
     "text": [
      "Hello World\n"
     ]
    }
   ],
   "source": [
    "message = \"Hello World\"\n",
    "print(message)"
   ]
  },
  {
   "cell_type": "code",
   "execution_count": 5,
   "id": "f897c934",
   "metadata": {},
   "outputs": [
    {
     "name": "stdout",
     "output_type": "stream",
     "text": [
      "Ada Lovelace\n",
      "ADA LOVELACE\n",
      "ada lovelace\n"
     ]
    }
   ],
   "source": [
    "# string functions\n",
    "name = \"ada lovelace\"\n",
    "print(name.title())\n",
    "print(name.upper())\n",
    "print(name.lower())"
   ]
  },
  {
   "cell_type": "code",
   "execution_count": 13,
   "id": "5e8535be",
   "metadata": {},
   "outputs": [
    {
     "name": "stdout",
     "output_type": "stream",
     "text": [
      "ada lovelace\n",
      "Ada Lovelace\n",
      "Hello, Ada Lovelace!\n",
      "Hello, Ada Lovelace!\n"
     ]
    }
   ],
   "source": [
    "# f-strings or format-strings\n",
    "# f-strings work only after Python 3.6 in python 3.5 it is \"{} {}\".format(first_name, last_name)\n",
    "first_name = \"ada\"\n",
    "last_name = \"lovelace\"\n",
    "full_name = f\"{first_name} {last_name}\"\n",
    "print(full_name)\n",
    "print(full_name.title())\n",
    "print(f\"Hello, {full_name.title()}!\")\n",
    "message = f\"Hello, {full_name.title()}!\"\n",
    "print(message)"
   ]
  },
  {
   "cell_type": "code",
   "execution_count": 15,
   "id": "06db287f",
   "metadata": {},
   "outputs": [
    {
     "name": "stdout",
     "output_type": "stream",
     "text": [
      "Python\n",
      "\tPython\n",
      "Languages:\n",
      "Python\n",
      "Java\n",
      "C\n",
      "Languages:\n",
      "\tPython\n",
      "\tJava\n",
      "\tC\n"
     ]
    }
   ],
   "source": [
    "# whitespace\n",
    "print(\"Python\")\n",
    "print(\"\\tPython\")\n",
    "print(\"Languages:\\nPython\\nJava\\nC\")\n",
    "print(\"Languages:\\n\\tPython\\n\\tJava\\n\\tC\")"
   ]
  },
  {
   "cell_type": "code",
   "execution_count": 18,
   "id": "218dae3b",
   "metadata": {},
   "outputs": [
    {
     "name": "stdout",
     "output_type": "stream",
     "text": [
      "Python\n",
      "Python \n",
      " Python\n",
      "Python\n"
     ]
    }
   ],
   "source": [
    "# stripping whitespace\n",
    "favorite_language = 'Python '\n",
    "print(favorite_language.rstrip())\n",
    "\n",
    "favorite_language = ' Python '\n",
    "print(favorite_language.lstrip())\n",
    "print(favorite_language.rstrip())\n",
    "print(favorite_language.strip())"
   ]
  },
  {
   "cell_type": "code",
   "execution_count": 7,
   "id": "2bba18b0",
   "metadata": {},
   "outputs": [
    {
     "name": "stdout",
     "output_type": "stream",
     "text": [
      "nostarch.com\n",
      "MiracleCreator\n"
     ]
    }
   ],
   "source": [
    "# removing prefixes and suffixes\n",
    "nostarch_url = 'https://nostarch.com'\n",
    "print(nostarch_url.removeprefix('https://'))\n",
    "\n",
    "exefile = 'MiracleCreator.exe'\n",
    "print(exefile.removesuffix('.exe'))\n"
   ]
  },
  {
   "cell_type": "code",
   "execution_count": 2,
   "id": "87fc419d",
   "metadata": {},
   "outputs": [
    {
     "name": "stdout",
     "output_type": "stream",
     "text": [
      "One of Python's strengths is its diverse comunity.\n"
     ]
    }
   ],
   "source": [
    "message = \"One of Python's strengths is its diverse comunity.\"\n",
    "print(message)"
   ]
  },
  {
   "cell_type": "code",
   "execution_count": 10,
   "id": "0481567b",
   "metadata": {},
   "outputs": [
    {
     "name": "stdout",
     "output_type": "stream",
     "text": [
      "5\n",
      "1\n",
      "6\n",
      "1.5\n",
      "9\n",
      "27\n",
      "1000000\n"
     ]
    }
   ],
   "source": [
    "# numbers integers\n",
    "var1 = 2 + 3\n",
    "print(var1)\n",
    "var1 = 3 - 2\n",
    "print(var1)\n",
    "var1 = 2 * 3\n",
    "print(var1)\n",
    "var1 = 3 / 2\n",
    "print(var1)\n",
    "# power of \n",
    "var1 = 3 ** 2\n",
    "print(var1)\n",
    "var1 = 3 ** 3\n",
    "print(var1)\n",
    "var1 = 10 ** 6\n",
    "print(var1)"
   ]
  },
  {
   "cell_type": "code",
   "execution_count": 11,
   "id": "e4b25f9e",
   "metadata": {},
   "outputs": [
    {
     "name": "stdout",
     "output_type": "stream",
     "text": [
      "14\n",
      "20\n"
     ]
    }
   ],
   "source": [
    "# order of the operators\n",
    "var1 = 2 + 3*4\n",
    "print(var1)\n",
    "var1 = (2 + 3)*4\n",
    "print(var1)"
   ]
  },
  {
   "cell_type": "code",
   "execution_count": 12,
   "id": "79811521",
   "metadata": {},
   "outputs": [
    {
     "name": "stdout",
     "output_type": "stream",
     "text": [
      "0.2\n",
      "0.4\n",
      "0.2\n",
      "0.4\n"
     ]
    }
   ],
   "source": [
    "# floats\n",
    "var2 = 0.1 + 0.1\n",
    "print(var2)\n",
    "var2 = 0.2 + 0.2\n",
    "print(var2)\n",
    "var2 = 2 * 0.1\n",
    "print(var2)\n",
    "var2 = 2 * 0.2\n",
    "print(var2)"
   ]
  },
  {
   "cell_type": "code",
   "execution_count": 15,
   "id": "5b19d20d",
   "metadata": {},
   "outputs": [
    {
     "name": "stdout",
     "output_type": "stream",
     "text": [
      "0.30000000000000004\n",
      "0.30000000000000004\n"
     ]
    }
   ],
   "source": [
    "# sometimes float operations gives some arbitrary numbers\n",
    "var2 = 0.2 + 0.1\n",
    "print(var2)\n",
    "var2 = 3 * 0.1\n",
    "print(var2)"
   ]
  },
  {
   "cell_type": "code",
   "execution_count": 17,
   "id": "3c076068",
   "metadata": {},
   "outputs": [
    {
     "name": "stdout",
     "output_type": "stream",
     "text": [
      "2.0\n",
      "3.0\n",
      "6.0\n",
      "9.0\n"
     ]
    }
   ],
   "source": [
    "# combining integers and floats\n",
    "var3 = 4/2\n",
    "print(var3)\n",
    "var3 = 1 + 2.0\n",
    "print(var3)\n",
    "var3 = 2 * 3.0\n",
    "print(var3)\n",
    "var3 = 3.0 ** 2\n",
    "print(var3)"
   ]
  },
  {
   "cell_type": "code",
   "execution_count": 18,
   "id": "aed02e96",
   "metadata": {},
   "outputs": [
    {
     "name": "stdout",
     "output_type": "stream",
     "text": [
      "1400000000\n"
     ]
    }
   ],
   "source": [
    "# underscored in numbers\n",
    "universe_age = 14_000_000_00\n",
    "print(universe_age)"
   ]
  },
  {
   "cell_type": "code",
   "execution_count": 19,
   "id": "eb1b85c6",
   "metadata": {},
   "outputs": [
    {
     "name": "stdout",
     "output_type": "stream",
     "text": [
      "0 1 2\n"
     ]
    }
   ],
   "source": [
    "# multiple assignments\n",
    "x, y, z = 0, 1, 2\n",
    "print(x,y,z)"
   ]
  },
  {
   "cell_type": "code",
   "execution_count": 20,
   "id": "ab580057",
   "metadata": {},
   "outputs": [
    {
     "name": "stdout",
     "output_type": "stream",
     "text": [
      "5000\n"
     ]
    }
   ],
   "source": [
    "# constants should be all caps\n",
    "MAX_CONNECTIONS = 5000\n",
    "print(MAX_CONNECTIONS)\n"
   ]
  },
  {
   "cell_type": "code",
   "execution_count": 21,
   "id": "4200cfaf",
   "metadata": {},
   "outputs": [
    {
     "name": "stdout",
     "output_type": "stream",
     "text": [
      "Your favorite number is  8\n"
     ]
    }
   ],
   "source": [
    "fav_num = 8\n",
    "print('Your favorite number is ',fav_num)"
   ]
  },
  {
   "cell_type": "code",
   "execution_count": 25,
   "id": "fcafb518",
   "metadata": {},
   "outputs": [
    {
     "name": "stdout",
     "output_type": "stream",
     "text": [
      "\n",
      "Simple is better then complex.\n",
      "Complex is better than complicated.\n",
      "Reliability counts.\n",
      "There should be one-- and preferebly only one --obvioud way to do it.\n",
      "Now is better than never.\n",
      "\n"
     ]
    }
   ],
   "source": [
    "# in python comments are prefixed with # symbol\n",
    "zen_of_python = '''\n",
    "Simple is better then complex.\n",
    "Complex is better than complicated.\n",
    "Reliability counts.\n",
    "There should be one-- and preferebly only one --obvioud way to do it.\n",
    "Now is better than never.\n",
    "'''\n",
    "print(zen_of_python)"
   ]
  },
  {
   "cell_type": "code",
   "execution_count": 36,
   "id": "43cfe0ab",
   "metadata": {},
   "outputs": [],
   "source": [
    "import this\n"
   ]
  }
 ],
 "metadata": {
  "kernelspec": {
   "display_name": "Python 3 (ipykernel)",
   "language": "python",
   "name": "python3"
  },
  "language_info": {
   "codemirror_mode": {
    "name": "ipython",
    "version": 3
   },
   "file_extension": ".py",
   "mimetype": "text/x-python",
   "name": "python",
   "nbconvert_exporter": "python",
   "pygments_lexer": "ipython3",
   "version": "3.9.13"
  }
 },
 "nbformat": 4,
 "nbformat_minor": 5
}
