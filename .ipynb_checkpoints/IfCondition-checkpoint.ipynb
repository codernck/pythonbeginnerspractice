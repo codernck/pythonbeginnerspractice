{
 "cells": [
  {
   "cell_type": "code",
   "execution_count": 1,
   "id": "b26b7685",
   "metadata": {},
   "outputs": [
    {
     "name": "stdout",
     "output_type": "stream",
     "text": [
      "Audi\n",
      "BMW\n",
      "Subaru\n",
      "Toyota\n"
     ]
    }
   ],
   "source": [
    "# If statement\n",
    "cars = ['audi', 'bmw','subaru', 'toyota']\n",
    "\n",
    "for car in cars:\n",
    "    if car == 'bmw':\n",
    "        print(car.upper())\n",
    "    else:\n",
    "        print(car.title())"
   ]
  },
  {
   "cell_type": "code",
   "execution_count": 2,
   "id": "6f3490d8",
   "metadata": {},
   "outputs": [
    {
     "data": {
      "text/plain": [
       "True"
      ]
     },
     "execution_count": 2,
     "metadata": {},
     "output_type": "execute_result"
    }
   ],
   "source": [
    "# Note: 'Audi' == 'audi'  will be false, if you want to compare without case \n",
    "car = 'Audi'\n",
    "car.lower() == 'audi'"
   ]
  },
  {
   "cell_type": "code",
   "execution_count": 3,
   "id": "1a47865a",
   "metadata": {},
   "outputs": [
    {
     "name": "stdout",
     "output_type": "stream",
     "text": [
      "Hold the anchovies!\n"
     ]
    }
   ],
   "source": [
    "# not equals check\n",
    "requested_toppings = 'mushrooms'\n",
    "\n",
    "if requested_toppings != 'anchovies':\n",
    "    print('Hold the anchovies!')"
   ]
  },
  {
   "cell_type": "code",
   "execution_count": 5,
   "id": "adb3c376",
   "metadata": {},
   "outputs": [
    {
     "name": "stdout",
     "output_type": "stream",
     "text": [
      "True\n",
      "That is not the correct answer. Please try again!\n"
     ]
    }
   ],
   "source": [
    "# comparing with the numbers\n",
    "age = 18\n",
    "print(age == 18)\n",
    "\n",
    "answer = 17\n",
    "if answer != 42:\n",
    "    print('That is not the correct answer. Please try again!')"
   ]
  },
  {
   "cell_type": "code",
   "execution_count": 6,
   "id": "a5930f02",
   "metadata": {},
   "outputs": [
    {
     "name": "stdout",
     "output_type": "stream",
     "text": [
      "True\n",
      "True\n",
      "False\n",
      "False\n"
     ]
    }
   ],
   "source": [
    "# number comparisions -2\n",
    "age = 19\n",
    "print(age < 21)\n",
    "print(age <= 21)\n",
    "print(age > 21)\n",
    "print(age >= 21)\n"
   ]
  },
  {
   "cell_type": "code",
   "execution_count": 12,
   "id": "1a822a3f",
   "metadata": {},
   "outputs": [
    {
     "name": "stdout",
     "output_type": "stream",
     "text": [
      "\n",
      "And:-\n",
      "False\n",
      "True\n",
      "\n",
      "Or:-\n",
      "True\n",
      "False\n"
     ]
    }
   ],
   "source": [
    "# checking multiple conditions\n",
    "print(\"\\nAnd:-\")\n",
    "age_0 = 22\n",
    "age_1 = 18\n",
    "print(age_0 >= 21 and age_1 >= 21)\n",
    "age_1 = 22\n",
    "print(age_0 >= 21 and age_1 >= 21)\n",
    "\n",
    "print(\"\\nOr:-\")\n",
    "age_0 = 22\n",
    "age_1 = 18\n",
    "print(age_0 >= 21 or age_1 >= 21)\n",
    "age_0 = 18\n",
    "print(age_0 >= 21 or age_1 >= 21)"
   ]
  },
  {
   "cell_type": "code",
   "execution_count": 17,
   "id": "399c713d",
   "metadata": {},
   "outputs": [
    {
     "name": "stdout",
     "output_type": "stream",
     "text": [
      "True\n",
      "False\n"
     ]
    }
   ],
   "source": [
    "# checking whether element is in the list\n",
    "requested_toppings = ['mushrooms', 'onions', 'pineapple']\n",
    "print('mushrooms' in requested_toppings)\n",
    "\n",
    "print('pepperoni' in requested_toppings)"
   ]
  },
  {
   "cell_type": "code",
   "execution_count": 18,
   "id": "ccf2e1e6",
   "metadata": {},
   "outputs": [
    {
     "name": "stdout",
     "output_type": "stream",
     "text": [
      "Marie, you can post a response if you wish.\n"
     ]
    }
   ],
   "source": [
    "# checking if element is not in the list\n",
    "banned_users = ['andrew', 'carolina', 'david']\n",
    "user = 'marie'\n",
    "\n",
    "if user not in banned_users:\n",
    "    print(f\"{user.title()}, you can post a response if you wish.\")"
   ]
  },
  {
   "cell_type": "code",
   "execution_count": 19,
   "id": "3a9cd18a",
   "metadata": {},
   "outputs": [],
   "source": [
    "# boolean expressions\n",
    "game_active = True\n",
    "can_edit = False\n"
   ]
  },
  {
   "cell_type": "code",
   "execution_count": 20,
   "id": "8208c1dc",
   "metadata": {},
   "outputs": [
    {
     "name": "stdout",
     "output_type": "stream",
     "text": [
      "Is car == 'subaru'? predict True.\n",
      "True\n",
      "\n",
      "Is car == 'audi'? I predict False.\n",
      "False\n"
     ]
    }
   ],
   "source": [
    "# Exercise\n",
    "car = 'subaru'\n",
    "print(\"Is car == 'subaru'? predict True.\")\n",
    "print(car == 'subaru')\n",
    "\n",
    "print(\"\\nIs car == 'audi'? I predict False.\")\n",
    "print(car == 'audi')"
   ]
  },
  {
   "cell_type": "code",
   "execution_count": 22,
   "id": "631a9086",
   "metadata": {},
   "outputs": [
    {
     "name": "stdout",
     "output_type": "stream",
     "text": [
      "You are eligible to vote!\n",
      "Have you regstered to vote yet?\n"
     ]
    }
   ],
   "source": [
    "age = 19\n",
    "if age >= 18:\n",
    "    print('You are eligible to vote!')\n",
    "    print(\"Have you regstered to vote yet?\")"
   ]
  },
  {
   "cell_type": "code",
   "execution_count": 23,
   "id": "718ab00a",
   "metadata": {},
   "outputs": [
    {
     "name": "stdout",
     "output_type": "stream",
     "text": [
      "Sorry, you are too young to vote.\n",
      "Please regiser to vote as soon as you turn 18!\n"
     ]
    }
   ],
   "source": [
    "# is-else\n",
    "age = 17\n",
    "if age >= 18:\n",
    "    print('You are eligible to vote!')\n",
    "    print(\"Have you regstered to vote yet?\")\n",
    "else:\n",
    "    print('Sorry, you are too young to vote.')\n",
    "    print(\"Please regiser to vote as soon as you turn 18!\")\n",
    "    "
   ]
  },
  {
   "cell_type": "code",
   "execution_count": 24,
   "id": "6ab9e2d2",
   "metadata": {},
   "outputs": [
    {
     "name": "stdout",
     "output_type": "stream",
     "text": [
      "Your admission cost is $25.\n"
     ]
    }
   ],
   "source": [
    "# amusement park under age 4 is free 4 to 18 is $25 above 18 is $40\n",
    "age = 12\n",
    "if age < 4:\n",
    "    print('Your admission cost is $0.')\n",
    "elif age < 18:\n",
    "    print('Your admission cost is $25.')\n",
    "else:\n",
    "    print('Your admission cost is $40.')\n",
    "    \n"
   ]
  },
  {
   "cell_type": "code",
   "execution_count": 25,
   "id": "c592d61d",
   "metadata": {},
   "outputs": [
    {
     "name": "stdout",
     "output_type": "stream",
     "text": [
      "Your admission cost is $25.\n"
     ]
    }
   ],
   "source": [
    "# amusement park with single print\n",
    "age = 12\n",
    "if age < 4:\n",
    "    price = 0\n",
    "elif age < 18:\n",
    "    price = 25\n",
    "else:\n",
    "    price = 40\n",
    "\n",
    "print(f\"Your admission cost is ${price}.\")    "
   ]
  },
  {
   "cell_type": "code",
   "execution_count": 28,
   "id": "df961b4d",
   "metadata": {},
   "outputs": [
    {
     "name": "stdout",
     "output_type": "stream",
     "text": [
      "Your admission fee is $25\n"
     ]
    }
   ],
   "source": [
    "# using multiple elif\n",
    "age = 12\n",
    "\n",
    "if age < 4:\n",
    "    price = 0\n",
    "elif age < 18:\n",
    "    price = 25\n",
    "elif age > 65:\n",
    "    price = 40\n",
    "else:\n",
    "    price = 20\n",
    "\n",
    "print(f\"Your admission fee is ${price}\")    \n"
   ]
  },
  {
   "cell_type": "code",
   "execution_count": 29,
   "id": "c92b5669",
   "metadata": {},
   "outputs": [
    {
     "name": "stdout",
     "output_type": "stream",
     "text": [
      "Your admidssion cost is $25\n"
     ]
    }
   ],
   "source": [
    "# we can omit the else block\n",
    "age = 12\n",
    "\n",
    "if age < 4:\n",
    "    price = 0\n",
    "elif age < 18:\n",
    "    price = 25\n",
    "elif age < 60:\n",
    "    price = 40\n",
    "elif price >= 65:\n",
    "    price = 20\n",
    "\n",
    "print(f\"Your admidssion cost is ${price}\")    "
   ]
  },
  {
   "cell_type": "code",
   "execution_count": 32,
   "id": "3b5b7e44",
   "metadata": {},
   "outputs": [
    {
     "name": "stdout",
     "output_type": "stream",
     "text": [
      "Adding mushrooms\n",
      "Adding extra cheese\n",
      "\n",
      "Finished making the Pizza!\n"
     ]
    }
   ],
   "source": [
    "# testing multiple conditions\n",
    "requested_toppings = ['mushrooms', 'extra cheese']\n",
    "\n",
    "if 'mushrooms' in requested_toppings:\n",
    "    print('Adding mushrooms')\n",
    "if 'onions' in requested_toppings:\n",
    "    print('Adding onions')\n",
    "if 'extra cheese' in requested_toppings:\n",
    "    print('Adding extra cheese')\n",
    "\n",
    "print(\"\\nFinished making the Pizza!\")    \n",
    "        "
   ]
  },
  {
   "cell_type": "code",
   "execution_count": null,
   "id": "d5feb963",
   "metadata": {},
   "outputs": [],
   "source": [
    "# last read page number is 83 of book Python crash course"
   ]
  }
 ],
 "metadata": {
  "kernelspec": {
   "display_name": "Python 3 (ipykernel)",
   "language": "python",
   "name": "python3"
  },
  "language_info": {
   "codemirror_mode": {
    "name": "ipython",
    "version": 3
   },
   "file_extension": ".py",
   "mimetype": "text/x-python",
   "name": "python",
   "nbconvert_exporter": "python",
   "pygments_lexer": "ipython3",
   "version": "3.9.13"
  }
 },
 "nbformat": 4,
 "nbformat_minor": 5
}
