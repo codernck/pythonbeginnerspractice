{
 "cells": [
  {
   "cell_type": "code",
   "execution_count": 1,
   "id": "f84a1892",
   "metadata": {},
   "outputs": [
    {
     "name": "stdout",
     "output_type": "stream",
     "text": [
      "['trek', 'cannodale', 'redline', 'specialized']\n"
     ]
    }
   ],
   "source": [
    "# list - is a collection of items\n",
    "bicycles = ['trek', 'cannodale', 'redline', 'specialized']\n",
    "print(bicycles)"
   ]
  },
  {
   "cell_type": "code",
   "execution_count": 2,
   "id": "437f32e8",
   "metadata": {},
   "outputs": [
    {
     "data": {
      "text/plain": [
       "'trek'"
      ]
     },
     "execution_count": 2,
     "metadata": {},
     "output_type": "execute_result"
    }
   ],
   "source": [
    "# get the first element - index position starts at zero\n",
    "bicycles[0]"
   ]
  },
  {
   "cell_type": "code",
   "execution_count": 4,
   "id": "f50fca5e",
   "metadata": {},
   "outputs": [
    {
     "data": {
      "text/plain": [
       "'Trek'"
      ]
     },
     "execution_count": 4,
     "metadata": {},
     "output_type": "execute_result"
    }
   ],
   "source": [
    "# operations on the elements of list\n",
    "bicycles[0].title()"
   ]
  },
  {
   "cell_type": "code",
   "execution_count": 5,
   "id": "313bb454",
   "metadata": {},
   "outputs": [
    {
     "name": "stdout",
     "output_type": "stream",
     "text": [
      "cannodale\n",
      "specialized\n"
     ]
    }
   ],
   "source": [
    "# second element and 4th element\n",
    "print(bicycles[1])\n",
    "print(bicycles[3])"
   ]
  },
  {
   "cell_type": "code",
   "execution_count": 7,
   "id": "468b8dde",
   "metadata": {},
   "outputs": [
    {
     "name": "stdout",
     "output_type": "stream",
     "text": [
      "specialized\n",
      "redline\n",
      "cannodale\n"
     ]
    }
   ],
   "source": [
    "# negative index to get the last element\n",
    "print(bicycles[-1])\n",
    "# get the last but one element\n",
    "print(bicycles[-2]) \n",
    "# get the last 2nd element\n",
    "print(bicycles[-3])"
   ]
  },
  {
   "cell_type": "code",
   "execution_count": 8,
   "id": "ec6a5b09",
   "metadata": {},
   "outputs": [
    {
     "name": "stdout",
     "output_type": "stream",
     "text": [
      "My first bicycle was a Trek\n"
     ]
    }
   ],
   "source": [
    "# using the elements of the list\n",
    "message = f\"My first bicycle was a {bicycles[0].title()}\"\n",
    "print(message)"
   ]
  },
  {
   "cell_type": "code",
   "execution_count": 9,
   "id": "b86a354a",
   "metadata": {},
   "outputs": [
    {
     "name": "stdout",
     "output_type": "stream",
     "text": [
      "Ram\n",
      "Raju\n",
      "Rahul\n"
     ]
    }
   ],
   "source": [
    "friends_names = ['Ram', 'Raju', 'Rahul']\n",
    "print(friends_names[0])\n",
    "print(friends_names[1])\n",
    "print(friends_names[2])"
   ]
  },
  {
   "cell_type": "code",
   "execution_count": 10,
   "id": "6ba568c9",
   "metadata": {},
   "outputs": [
    {
     "name": "stdout",
     "output_type": "stream",
     "text": [
      "Hi  Ram\n",
      "Hi  Raju\n",
      "Hi  Rahul\n"
     ]
    }
   ],
   "source": [
    "friends_names = ['Ram', 'Raju', 'Rahul']\n",
    "print('Hi ',friends_names[0])\n",
    "print('Hi ',friends_names[1])\n",
    "print('Hi ',friends_names[2])"
   ]
  },
  {
   "cell_type": "code",
   "execution_count": 11,
   "id": "7d4f2de9",
   "metadata": {},
   "outputs": [
    {
     "name": "stdout",
     "output_type": "stream",
     "text": [
      "I would like to travel using  Car\n",
      "I would like to travel using  Bike\n",
      "I would like to travel using  Trike\n"
     ]
    }
   ],
   "source": [
    "transportation = ['Car', 'Bike', 'Trike', 'Helicopter']\n",
    "print('I would like to travel using ',transportation[0])\n",
    "print('I would like to travel using ',transportation[1])\n",
    "print('I would like to travel using ',transportation[2])\n"
   ]
  },
  {
   "cell_type": "code",
   "execution_count": 12,
   "id": "bc1beedc",
   "metadata": {},
   "outputs": [
    {
     "name": "stdout",
     "output_type": "stream",
     "text": [
      "['honda', 'yamaha', 'suzuki']\n",
      "['ducati', 'yamaha', 'suzuki']\n"
     ]
    }
   ],
   "source": [
    "# Modifying the elements in the list \n",
    "motorcycles = ['honda', 'yamaha', 'suzuki']\n",
    "print(motorcycles)\n",
    "\n",
    "# updating the element\n",
    "motorcycles[0] = 'ducati'\n",
    "print(motorcycles)"
   ]
  },
  {
   "cell_type": "code",
   "execution_count": 13,
   "id": "9a5ab1dd",
   "metadata": {},
   "outputs": [
    {
     "name": "stdout",
     "output_type": "stream",
     "text": [
      "['honda', 'yamaha', 'suzuki', 'ducati']\n"
     ]
    }
   ],
   "source": [
    "# adding the element to the list\n",
    "motorcycles = ['honda', 'yamaha', 'suzuki']\n",
    "\n",
    "motorcycles.append('ducati')\n",
    "print(motorcycles)"
   ]
  },
  {
   "cell_type": "code",
   "execution_count": 16,
   "id": "e4f143d6",
   "metadata": {},
   "outputs": [
    {
     "name": "stdout",
     "output_type": "stream",
     "text": [
      "[]\n",
      "['honda', 'yamaha', 'suzuki']\n"
     ]
    }
   ],
   "source": [
    "# aooend will add at the last\n",
    "motorcycles = []\n",
    "print(motorcycles)\n",
    "\n",
    "motorcycles.append('honda')\n",
    "motorcycles.append('yamaha')\n",
    "motorcycles.append('suzuki')\n",
    "print(motorcycles)"
   ]
  },
  {
   "cell_type": "code",
   "execution_count": 18,
   "id": "dcd79f48",
   "metadata": {},
   "outputs": [
    {
     "name": "stdout",
     "output_type": "stream",
     "text": [
      "['ducati', 'ducati', 'honda', 'yamaha', 'suzuki']\n"
     ]
    }
   ],
   "source": [
    "# inserting at the specified position\n",
    "motorcycles.insert(0, 'ducati')\n",
    "print(motorcycles)"
   ]
  },
  {
   "cell_type": "code",
   "execution_count": 21,
   "id": "e8e665f6",
   "metadata": {},
   "outputs": [
    {
     "name": "stdout",
     "output_type": "stream",
     "text": [
      "['honda', 'yamaha', 'suzuki']\n",
      "['yamaha', 'suzuki']\n",
      "['yamaha']\n"
     ]
    }
   ],
   "source": [
    "# deleting the emelents using index - index starts at zero\n",
    "print(motorcycles)\n",
    "\n",
    "del motorcycles[0]\n",
    "print(motorcycles)\n",
    "\n",
    "del motorcycles[1]\n",
    "print(motorcycles)"
   ]
  },
  {
   "cell_type": "code",
   "execution_count": 22,
   "id": "3f59feac",
   "metadata": {},
   "outputs": [
    {
     "name": "stdout",
     "output_type": "stream",
     "text": [
      "suzuki\n"
     ]
    }
   ],
   "source": [
    "# popping the elements using pop - removes the last element\n",
    "motorcycles = ['honda', 'yamaha', 'suzuki']\n",
    "popped_motorcycle = motorcycles.pop()\n",
    "print(popped_motorcycle)"
   ]
  },
  {
   "cell_type": "code",
   "execution_count": 23,
   "id": "dd689bdb",
   "metadata": {},
   "outputs": [
    {
     "name": "stdout",
     "output_type": "stream",
     "text": [
      "['honda', 'yamaha']\n"
     ]
    }
   ],
   "source": [
    "print(motorcycles)"
   ]
  },
  {
   "cell_type": "code",
   "execution_count": 31,
   "id": "af940885",
   "metadata": {},
   "outputs": [
    {
     "name": "stdout",
     "output_type": "stream",
     "text": [
      "The last motorcycle I owned was Suzuki\n"
     ]
    }
   ],
   "source": [
    "# usage of pop\n",
    "motorcycles = ['honda', 'yamaha', 'suzuki']\n",
    "\n",
    "last_owned = motorcycles.pop()\n",
    "print(f\"The last motorcycle I owned was {last_owned.title()}\")"
   ]
  },
  {
   "cell_type": "code",
   "execution_count": 32,
   "id": "31e0558b",
   "metadata": {},
   "outputs": [
    {
     "name": "stdout",
     "output_type": "stream",
     "text": [
      "The first motorcycle I owned was Honda\n"
     ]
    }
   ],
   "source": [
    "# popping elements using inex\n",
    "motorcycles = ['honda', 'yamaha', 'suzuki']\n",
    "\n",
    "first_owned = motorcycles.pop(0)\n",
    "print(f\"The first motorcycle I owned was {first_owned.title()}\")"
   ]
  },
  {
   "cell_type": "code",
   "execution_count": 34,
   "id": "1e3824b9",
   "metadata": {},
   "outputs": [
    {
     "name": "stdout",
     "output_type": "stream",
     "text": [
      "['honda', 'yamaha', 'suzuki', 'ducati']\n",
      "['honda', 'yamaha', 'suzuki']\n"
     ]
    }
   ],
   "source": [
    "# removing the element by value\n",
    "motorcycles = ['honda', 'yamaha', 'suzuki', 'ducati']\n",
    "print(motorcycles)\n",
    "\n",
    "motorcycles.remove('ducati')\n",
    "print(motorcycles)"
   ]
  },
  {
   "cell_type": "code",
   "execution_count": 36,
   "id": "0f3f8965",
   "metadata": {},
   "outputs": [
    {
     "name": "stdout",
     "output_type": "stream",
     "text": [
      "['honda', 'yamaha', 'suzuki']\n",
      "A Ducati is too expensive for me.\n"
     ]
    }
   ],
   "source": [
    "# removing the element by value using the varaible\n",
    "motorcycles = ['honda', 'yamaha', 'suzuki', 'ducati']\n",
    "too_expensive = 'ducati'\n",
    "\n",
    "motorcycles.remove(too_expensive)\n",
    "print(motorcycles)\n",
    "\n",
    "print(f\"A {too_expensive.title()} is too expensive for me.\")"
   ]
  },
  {
   "cell_type": "code",
   "execution_count": 37,
   "id": "9a3390b5",
   "metadata": {},
   "outputs": [
    {
     "name": "stdout",
     "output_type": "stream",
     "text": [
      "['honda', 'yamaha', 'suzuki', 'ducati']\n"
     ]
    }
   ],
   "source": [
    "# remove will remove/delete only the first occurence of the list, if there are duplicates you need to delete all occurences \n",
    "# using the loops\n",
    "\n",
    "motorcycles = ['ducati','honda', 'yamaha', 'suzuki', 'ducati']\n",
    "motorcycles.remove('ducati') # deletes only the first 'ducati' element\n",
    "print(motorcycles)"
   ]
  },
  {
   "cell_type": "code",
   "execution_count": 37,
   "id": "ea779ffb",
   "metadata": {},
   "outputs": [
    {
     "name": "stdout",
     "output_type": "stream",
     "text": [
      "Calling 3 guests.\n",
      "Hi Gandhi, you are invited for dinner.\n",
      "Hi Mother Teressa, you are invited for dinner.\n",
      "Hi Nelson Mandela, you are invited for dinner.\n",
      "---------------------------------------------------\n",
      "Calling 3 guests.\n",
      "Hi Gandhi, you are invited for dinner.\n",
      "Hi Mother Teressa, you are invited for dinner.\n",
      "Hi Charlie Chaplin, you are invited for dinner.\n",
      "---------------------------------------------------\n",
      "Calling 3 guests.\n",
      "Hi Gandhi, you are invited for dinner.\n",
      "Hi Mother Teressa, you are invited for dinner.\n",
      "Hi Charles Dickens, you are invited for dinner.\n",
      "Hi Mokshagundam Visveraya, you are invited for dinner.\n",
      "Hi Charlie Chaplin, you are invited for dinner.\n",
      "Hi Rmanujan, you are invited for dinner.\n",
      "---------------------------------------------------\n",
      "==Calling 5 guests.\n",
      "==Calling 4 guests.\n",
      "==Calling 3 guests.\n",
      "==Calling 2 guests.\n",
      "Hi Gandhi, you are invited for dinner.\n",
      "Hi Mother Teressa, you are invited for dinner.\n",
      "---------------------------------------------------\n",
      "==Calling 1 guests.\n",
      "==Calling 0 guests.\n",
      "[]\n"
     ]
    }
   ],
   "source": [
    "# Exercise\n",
    "guest_list = ['Gandhi',\"Mother Teressa\", 'Nelson Mandela']\n",
    "print(f\"Calling {len(guest_list)} guests.\")\n",
    "print(f\"Hi {guest_list[0]}, you are invited for dinner.\")\n",
    "print(f\"Hi {guest_list[1]}, you are invited for dinner.\")\n",
    "print(f\"Hi {guest_list[2]}, you are invited for dinner.\")\n",
    "print('---------------------------------------------------')\n",
    "\n",
    "# replace one of the guest\n",
    "guest_list[2] = 'Charlie Chaplin'\n",
    "print(f\"Calling {len(guest_list)} guests.\")\n",
    "print(f\"Hi {guest_list[0]}, you are invited for dinner.\")\n",
    "print(f\"Hi {guest_list[1]}, you are invited for dinner.\")\n",
    "print(f\"Hi {guest_list[2]}, you are invited for dinner.\")\n",
    "print('---------------------------------------------------')\n",
    "\n",
    "# insert\n",
    "print(f\"Calling {len(guest_list)} guests.\")\n",
    "guest_list.insert(2, 'Charles Dickens')\n",
    "guest_list.insert(3, 'Mokshagundam Visveraya')\n",
    "guest_list.append('Rmanujan')\n",
    "print(f\"Hi {guest_list[0]}, you are invited for dinner.\")\n",
    "print(f\"Hi {guest_list[1]}, you are invited for dinner.\")\n",
    "print(f\"Hi {guest_list[2]}, you are invited for dinner.\")\n",
    "print(f\"Hi {guest_list[3]}, you are invited for dinner.\")\n",
    "print(f\"Hi {guest_list[4]}, you are invited for dinner.\")\n",
    "print(f\"Hi {guest_list[5]}, you are invited for dinner.\")\n",
    "print('---------------------------------------------------')\n",
    "\n",
    "# removing the lists\n",
    "guest_list.pop()\n",
    "print(f\"==Calling {len(guest_list)} guests.\")\n",
    "guest_list.pop()\n",
    "print(f\"==Calling {len(guest_list)} guests.\")\n",
    "guest_list.pop()\n",
    "print(f\"==Calling {len(guest_list)} guests.\")\n",
    "guest_list.pop()\n",
    "print(f\"==Calling {len(guest_list)} guests.\")\n",
    "# print(guest_list)\n",
    "print(f\"Hi {guest_list[0]}, you are invited for dinner.\")\n",
    "print(f\"Hi {guest_list[1]}, you are invited for dinner.\")\n",
    "print('---------------------------------------------------')\n",
    "\n",
    "del guest_list[0]\n",
    "print(f\"==Calling {len(guest_list)} guests.\")\n",
    "del guest_list[0]\n",
    "print(f\"==Calling {len(guest_list)} guests.\")\n",
    "print(guest_list)\n",
    "#print('---------------------------------------------------')"
   ]
  },
  {
   "cell_type": "code",
   "execution_count": 11,
   "id": "8f249ad6",
   "metadata": {},
   "outputs": [
    {
     "name": "stdout",
     "output_type": "stream",
     "text": [
      "['bmw', 'audi', 'toyato', 'subaru']\n",
      "['audi', 'bmw', 'subaru', 'toyato']\n"
     ]
    }
   ],
   "source": [
    "# Sorting the list- permanently usng sort\n",
    "cars = ['bmw', 'audi', 'toyato', 'subaru']\n",
    "print(cars)\n",
    "cars.sort()\n",
    "print(cars)"
   ]
  },
  {
   "cell_type": "code",
   "execution_count": 13,
   "id": "49091a54",
   "metadata": {},
   "outputs": [
    {
     "name": "stdout",
     "output_type": "stream",
     "text": [
      "['toyato', 'subaru', 'bmw', 'audi']\n"
     ]
    }
   ],
   "source": [
    "# sorting in reverse order\n",
    "cars = ['bmw', 'audi', 'toyato', 'subaru']\n",
    "cars.sort(reverse = True)\n",
    "print(cars)"
   ]
  },
  {
   "cell_type": "code",
   "execution_count": 15,
   "id": "c5f74de6",
   "metadata": {},
   "outputs": [
    {
     "name": "stdout",
     "output_type": "stream",
     "text": [
      "The original list\n",
      "['bmw', 'audi', 'toyato', 'subaru']\n",
      "\n",
      "Here is the sorted list\n",
      "['audi', 'bmw', 'subaru', 'toyato']\n",
      "\n",
      " Heres the original list again\n",
      "['bmw', 'audi', 'toyato', 'subaru']\n"
     ]
    }
   ],
   "source": [
    "# sorting the list temporarily using sorted\n",
    "cars = ['bmw', 'audi', 'toyato', 'subaru']\n",
    "print('The original list')\n",
    "print(cars)\n",
    "\n",
    "# this sorted() will not change permanently\n",
    "\n",
    "print(\"\\nHere is the sorted list\")\n",
    "print(sorted(cars))\n",
    "\n",
    "print('\\n Heres the original list again')\n",
    "print(cars)\n"
   ]
  },
  {
   "cell_type": "code",
   "execution_count": null,
   "id": "da3a3437",
   "metadata": {},
   "outputs": [],
   "source": [
    "# sorting is complicated when the list of words starting with both Caps and lowe case"
   ]
  },
  {
   "cell_type": "code",
   "execution_count": 16,
   "id": "fd13d967",
   "metadata": {},
   "outputs": [
    {
     "name": "stdout",
     "output_type": "stream",
     "text": [
      "['subaru', 'toyato', 'audi', 'bmw']\n"
     ]
    }
   ],
   "source": [
    "# printing the list reverse order - permanently\n",
    "cars = ['bmw', 'audi', 'toyato', 'subaru']\n",
    "cars.reverse()\n",
    "print(cars)"
   ]
  },
  {
   "cell_type": "code",
   "execution_count": 25,
   "id": "2c244d00",
   "metadata": {},
   "outputs": [
    {
     "name": "stdout",
     "output_type": "stream",
     "text": [
      "['toyato', 'subaru', 'bmw', 'audi']\n"
     ]
    }
   ],
   "source": [
    "cars = ['bmw', 'audi', 'toyato', 'subaru']\n",
    "cars.sort()\n",
    "cars.reverse()\n",
    "print(cars)"
   ]
  },
  {
   "cell_type": "code",
   "execution_count": 26,
   "id": "bb61e488",
   "metadata": {},
   "outputs": [
    {
     "data": {
      "text/plain": [
       "4"
      ]
     },
     "execution_count": 26,
     "metadata": {},
     "output_type": "execute_result"
    }
   ],
   "source": [
    "# lenght of the list\n",
    "cars = ['bmw', 'audi', 'toyato', 'subaru']\n",
    "len(cars)"
   ]
  },
  {
   "cell_type": "code",
   "execution_count": 36,
   "id": "4a5d27f7",
   "metadata": {},
   "outputs": [
    {
     "name": "stdout",
     "output_type": "stream",
     "text": [
      "['switzerland', 'singapore', 'usa', 'netherlands', 'paris', 'amsterdam']\n",
      "['amsterdam', 'netherlands', 'paris', 'singapore', 'switzerland', 'usa']\n",
      "['switzerland', 'singapore', 'usa', 'netherlands', 'paris', 'amsterdam']\n",
      "['amsterdam', 'paris', 'netherlands', 'usa', 'singapore', 'switzerland']\n",
      "['switzerland', 'singapore', 'usa', 'netherlands', 'paris', 'amsterdam']\n",
      "['usa', 'switzerland', 'singapore', 'paris', 'netherlands', 'amsterdam']\n",
      "['amsterdam', 'netherlands', 'paris', 'singapore', 'switzerland', 'usa']\n",
      "['usa', 'switzerland', 'singapore', 'paris', 'netherlands', 'amsterdam']\n"
     ]
    }
   ],
   "source": [
    "# Exercise\n",
    "favorite_places = ['switzerland', 'singapore', 'usa', 'netherlands', 'paris','amsterdam']\n",
    "print(favorite_places)\n",
    "\n",
    "print(sorted(favorite_places))\n",
    "\n",
    "print(favorite_places)\n",
    "favorite_places.reverse()\n",
    "print(favorite_places)\n",
    "\n",
    "# original order again\n",
    "favorite_places.reverse()\n",
    "print(favorite_places)\n",
    "\n",
    "print(sorted(favorite_places, reverse=True))\n",
    "\n",
    "favorite_places.sort()\n",
    "print(favorite_places)\n",
    "\n",
    "favorite_places.sort(reverse=True)\n",
    "print(favorite_places)"
   ]
  },
  {
   "cell_type": "code",
   "execution_count": null,
   "id": "2af5fe79",
   "metadata": {},
   "outputs": [],
   "source": []
  }
 ],
 "metadata": {
  "kernelspec": {
   "display_name": "Python 3 (ipykernel)",
   "language": "python",
   "name": "python3"
  },
  "language_info": {
   "codemirror_mode": {
    "name": "ipython",
    "version": 3
   },
   "file_extension": ".py",
   "mimetype": "text/x-python",
   "name": "python",
   "nbconvert_exporter": "python",
   "pygments_lexer": "ipython3",
   "version": "3.9.13"
  }
 },
 "nbformat": 4,
 "nbformat_minor": 5
}
