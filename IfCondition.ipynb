{
 "cells": [
  {
   "cell_type": "code",
   "execution_count": 1,
   "id": "b26b7685",
   "metadata": {},
   "outputs": [
    {
     "name": "stdout",
     "output_type": "stream",
     "text": [
      "Audi\n",
      "BMW\n",
      "Subaru\n",
      "Toyota\n"
     ]
    }
   ],
   "source": [
    "# If statement\n",
    "cars = ['audi', 'bmw','subaru', 'toyota']\n",
    "\n",
    "for car in cars:\n",
    "    if car == 'bmw':\n",
    "        print(car.upper())\n",
    "    else:\n",
    "        print(car.title())"
   ]
  },
  {
   "cell_type": "code",
   "execution_count": 2,
   "id": "6f3490d8",
   "metadata": {},
   "outputs": [
    {
     "data": {
      "text/plain": [
       "True"
      ]
     },
     "execution_count": 2,
     "metadata": {},
     "output_type": "execute_result"
    }
   ],
   "source": [
    "# Note: 'Audi' == 'audi'  will be false, if you want to compare without case \n",
    "car = 'Audi'\n",
    "car.lower() == 'audi'"
   ]
  },
  {
   "cell_type": "code",
   "execution_count": 3,
   "id": "1a47865a",
   "metadata": {},
   "outputs": [
    {
     "name": "stdout",
     "output_type": "stream",
     "text": [
      "Hold the anchovies!\n"
     ]
    }
   ],
   "source": [
    "# not equals check\n",
    "requested_toppings = 'mushrooms'\n",
    "\n",
    "if requested_toppings != 'anchovies':\n",
    "    print('Hold the anchovies!')"
   ]
  },
  {
   "cell_type": "code",
   "execution_count": 5,
   "id": "adb3c376",
   "metadata": {},
   "outputs": [
    {
     "name": "stdout",
     "output_type": "stream",
     "text": [
      "True\n",
      "That is not the correct answer. Please try again!\n"
     ]
    }
   ],
   "source": [
    "# comparing with the numbers\n",
    "age = 18\n",
    "print(age == 18)\n",
    "\n",
    "answer = 17\n",
    "if answer != 42:\n",
    "    print('That is not the correct answer. Please try again!')"
   ]
  },
  {
   "cell_type": "code",
   "execution_count": 6,
   "id": "a5930f02",
   "metadata": {},
   "outputs": [
    {
     "name": "stdout",
     "output_type": "stream",
     "text": [
      "True\n",
      "True\n",
      "False\n",
      "False\n"
     ]
    }
   ],
   "source": [
    "# number comparisions -2\n",
    "age = 19\n",
    "print(age < 21)\n",
    "print(age <= 21)\n",
    "print(age > 21)\n",
    "print(age >= 21)\n"
   ]
  },
  {
   "cell_type": "code",
   "execution_count": 12,
   "id": "1a822a3f",
   "metadata": {},
   "outputs": [
    {
     "name": "stdout",
     "output_type": "stream",
     "text": [
      "\n",
      "And:-\n",
      "False\n",
      "True\n",
      "\n",
      "Or:-\n",
      "True\n",
      "False\n"
     ]
    }
   ],
   "source": [
    "# checking multiple conditions\n",
    "print(\"\\nAnd:-\")\n",
    "age_0 = 22\n",
    "age_1 = 18\n",
    "print(age_0 >= 21 and age_1 >= 21)\n",
    "age_1 = 22\n",
    "print(age_0 >= 21 and age_1 >= 21)\n",
    "\n",
    "print(\"\\nOr:-\")\n",
    "age_0 = 22\n",
    "age_1 = 18\n",
    "print(age_0 >= 21 or age_1 >= 21)\n",
    "age_0 = 18\n",
    "print(age_0 >= 21 or age_1 >= 21)"
   ]
  },
  {
   "cell_type": "code",
   "execution_count": 17,
   "id": "399c713d",
   "metadata": {},
   "outputs": [
    {
     "name": "stdout",
     "output_type": "stream",
     "text": [
      "True\n",
      "False\n"
     ]
    }
   ],
   "source": [
    "# checking whether element is in the list\n",
    "requested_toppings = ['mushrooms', 'onions', 'pineapple']\n",
    "print('mushrooms' in requested_toppings)\n",
    "\n",
    "print('pepperoni' in requested_toppings)"
   ]
  },
  {
   "cell_type": "code",
   "execution_count": 18,
   "id": "ccf2e1e6",
   "metadata": {},
   "outputs": [
    {
     "name": "stdout",
     "output_type": "stream",
     "text": [
      "Marie, you can post a response if you wish.\n"
     ]
    }
   ],
   "source": [
    "# checking if element is not in the list\n",
    "banned_users = ['andrew', 'carolina', 'david']\n",
    "user = 'marie'\n",
    "\n",
    "if user not in banned_users:\n",
    "    print(f\"{user.title()}, you can post a response if you wish.\")"
   ]
  },
  {
   "cell_type": "code",
   "execution_count": 19,
   "id": "3a9cd18a",
   "metadata": {},
   "outputs": [],
   "source": [
    "# boolean expressions\n",
    "game_active = True\n",
    "can_edit = False\n"
   ]
  },
  {
   "cell_type": "code",
   "execution_count": 20,
   "id": "8208c1dc",
   "metadata": {},
   "outputs": [
    {
     "name": "stdout",
     "output_type": "stream",
     "text": [
      "Is car == 'subaru'? predict True.\n",
      "True\n",
      "\n",
      "Is car == 'audi'? I predict False.\n",
      "False\n"
     ]
    }
   ],
   "source": [
    "# Exercise\n",
    "car = 'subaru'\n",
    "print(\"Is car == 'subaru'? predict True.\")\n",
    "print(car == 'subaru')\n",
    "\n",
    "print(\"\\nIs car == 'audi'? I predict False.\")\n",
    "print(car == 'audi')"
   ]
  },
  {
   "cell_type": "code",
   "execution_count": 22,
   "id": "631a9086",
   "metadata": {},
   "outputs": [
    {
     "name": "stdout",
     "output_type": "stream",
     "text": [
      "You are eligible to vote!\n",
      "Have you regstered to vote yet?\n"
     ]
    }
   ],
   "source": [
    "age = 19\n",
    "if age >= 18:\n",
    "    print('You are eligible to vote!')\n",
    "    print(\"Have you regstered to vote yet?\")"
   ]
  },
  {
   "cell_type": "code",
   "execution_count": 23,
   "id": "718ab00a",
   "metadata": {},
   "outputs": [
    {
     "name": "stdout",
     "output_type": "stream",
     "text": [
      "Sorry, you are too young to vote.\n",
      "Please regiser to vote as soon as you turn 18!\n"
     ]
    }
   ],
   "source": [
    "# is-else\n",
    "age = 17\n",
    "if age >= 18:\n",
    "    print('You are eligible to vote!')\n",
    "    print(\"Have you regstered to vote yet?\")\n",
    "else:\n",
    "    print('Sorry, you are too young to vote.')\n",
    "    print(\"Please regiser to vote as soon as you turn 18!\")\n",
    "    "
   ]
  },
  {
   "cell_type": "code",
   "execution_count": 24,
   "id": "6ab9e2d2",
   "metadata": {},
   "outputs": [
    {
     "name": "stdout",
     "output_type": "stream",
     "text": [
      "Your admission cost is $25.\n"
     ]
    }
   ],
   "source": [
    "# amusement park under age 4 is free 4 to 18 is $25 above 18 is $40\n",
    "age = 12\n",
    "if age < 4:\n",
    "    print('Your admission cost is $0.')\n",
    "elif age < 18:\n",
    "    print('Your admission cost is $25.')\n",
    "else:\n",
    "    print('Your admission cost is $40.')\n",
    "    \n"
   ]
  },
  {
   "cell_type": "code",
   "execution_count": 25,
   "id": "c592d61d",
   "metadata": {},
   "outputs": [
    {
     "name": "stdout",
     "output_type": "stream",
     "text": [
      "Your admission cost is $25.\n"
     ]
    }
   ],
   "source": [
    "# amusement park with single print\n",
    "age = 12\n",
    "if age < 4:\n",
    "    price = 0\n",
    "elif age < 18:\n",
    "    price = 25\n",
    "else:\n",
    "    price = 40\n",
    "\n",
    "print(f\"Your admission cost is ${price}.\")    "
   ]
  },
  {
   "cell_type": "code",
   "execution_count": 28,
   "id": "df961b4d",
   "metadata": {},
   "outputs": [
    {
     "name": "stdout",
     "output_type": "stream",
     "text": [
      "Your admission fee is $25\n"
     ]
    }
   ],
   "source": [
    "# using multiple elif\n",
    "age = 12\n",
    "\n",
    "if age < 4:\n",
    "    price = 0\n",
    "elif age < 18:\n",
    "    price = 25\n",
    "elif age > 65:\n",
    "    price = 40\n",
    "else:\n",
    "    price = 20\n",
    "\n",
    "print(f\"Your admission fee is ${price}\")    \n"
   ]
  },
  {
   "cell_type": "code",
   "execution_count": 29,
   "id": "c92b5669",
   "metadata": {},
   "outputs": [
    {
     "name": "stdout",
     "output_type": "stream",
     "text": [
      "Your admidssion cost is $25\n"
     ]
    }
   ],
   "source": [
    "# we can omit the else block\n",
    "age = 12\n",
    "\n",
    "if age < 4:\n",
    "    price = 0\n",
    "elif age < 18:\n",
    "    price = 25\n",
    "elif age < 60:\n",
    "    price = 40\n",
    "elif price >= 65:\n",
    "    price = 20\n",
    "\n",
    "print(f\"Your admidssion cost is ${price}\")    "
   ]
  },
  {
   "cell_type": "code",
   "execution_count": 32,
   "id": "3b5b7e44",
   "metadata": {},
   "outputs": [
    {
     "name": "stdout",
     "output_type": "stream",
     "text": [
      "Adding mushrooms\n",
      "Adding extra cheese\n",
      "\n",
      "Finished making the Pizza!\n"
     ]
    }
   ],
   "source": [
    "# testing multiple conditions\n",
    "requested_toppings = ['mushrooms', 'extra cheese']\n",
    "\n",
    "if 'mushrooms' in requested_toppings:\n",
    "    print('Adding mushrooms')\n",
    "if 'onions' in requested_toppings:\n",
    "    print('Adding onions')\n",
    "if 'extra cheese' in requested_toppings:\n",
    "    print('Adding extra cheese')\n",
    "\n",
    "print(\"\\nFinished making the Pizza!\")    \n",
    "        "
   ]
  },
  {
   "cell_type": "code",
   "execution_count": 3,
   "id": "b1ab11fd",
   "metadata": {},
   "outputs": [
    {
     "name": "stdout",
     "output_type": "stream",
     "text": [
      "N\n",
      "E\n"
     ]
    }
   ],
   "source": [
    "# concise way of writing the if conditoinal statements\n",
    "lat = 12.97\n",
    "long = 77.59\n",
    "\n",
    "print(\"N\" if lat > 0 else \"S\")\n",
    "print(\"E\" if long > 0  else \"W\")"
   ]
  },
  {
   "cell_type": "code",
   "execution_count": 4,
   "id": "d74575e9",
   "metadata": {},
   "outputs": [
    {
     "name": "stdout",
     "output_type": "stream",
     "text": [
      "N\n",
      "S\n",
      "E\n",
      "W\n"
     ]
    }
   ],
   "source": [
    "lat1, long1  = 57.792017, 12.054745\n",
    "lat2, long2  = -14.896547, -3.132567\n",
    "print('NS'[lat1 < 0])\n",
    "print('NS'[lat2 < 0])\n",
    "\n",
    "print('EW'[long1 < 0])\n",
    "print('EW'[long2 < 0])"
   ]
  },
  {
   "cell_type": "code",
   "execution_count": 8,
   "id": "62b00554",
   "metadata": {},
   "outputs": [
    {
     "name": "stdout",
     "output_type": "stream",
     "text": [
      "Player earned 10 points\n"
     ]
    }
   ],
   "source": [
    "# exercise:\n",
    "alien_color = 'red'\n",
    "if alien_color == 'green':\n",
    "    print(f\"Player earned 5 points\")\n",
    "else:\n",
    "    print(f\"Player earned 10 points\")\n",
    "    \n",
    "   "
   ]
  },
  {
   "cell_type": "code",
   "execution_count": 13,
   "id": "36c38fb9",
   "metadata": {},
   "outputs": [
    {
     "name": "stdout",
     "output_type": "stream",
     "text": [
      "You have earned 15 points for shooting the alien\n"
     ]
    }
   ],
   "source": [
    "# exercise\n",
    "alien_color = 'red'\n",
    "\n",
    "green_points = 5\n",
    "yellow_points = 10\n",
    "red_points = 15\n",
    "\n",
    "if alien_color == 'green':\n",
    "    print(f\"You have earned {green_points} points for shooting the alien\")\n",
    "elif alien_color == 'yellow':\n",
    "    print(f\"You have earned {yellow_points} points for shooting the alien\")    \n",
    "elif alien_color == 'red':\n",
    "    print(f\"You have earned {red_points} points for shooting the alien\")"
   ]
  },
  {
   "cell_type": "code",
   "execution_count": 21,
   "id": "f4d4cbba",
   "metadata": {},
   "outputs": [
    {
     "name": "stdout",
     "output_type": "stream",
     "text": [
      "You are 65 years old, and you are a elder\n"
     ]
    }
   ],
   "source": [
    "# exercise\n",
    "age = 65\n",
    "if age < 2:\n",
    "    print(f\"You are {age} years old, and you are a baby\")\n",
    "elif age < 4:\n",
    "    print(f\"You are {age} years old, and you are a toddler\")\n",
    "elif age < 13:\n",
    "    print(f\"You are {age} years old, and you are a kid\")\n",
    "elif age < 20:\n",
    "    print(f\"You are {age} years old, and you are a teenager\")\n",
    "elif age < 65:\n",
    "    print(f\"You are {age} years old, and you are a adult\")\n",
    "elif age >=65:\n",
    "    print(f\"You are {age} years old, and you are a elder\")"
   ]
  },
  {
   "cell_type": "code",
   "execution_count": 23,
   "id": "d5714b77",
   "metadata": {},
   "outputs": [
    {
     "name": "stdout",
     "output_type": "stream",
     "text": [
      "Adding mushrooms.\n",
      "Adding green peppers.\n",
      "Adding extra cheese.\n",
      "\n",
      "Finished making the pizza!\n"
     ]
    }
   ],
   "source": [
    "requested_toppings = ['mushrooms', 'green peppers', 'extra cheese']\n",
    "for requested_topping in requested_toppings:\n",
    "    print(f\"Adding {requested_topping}.\")\n",
    "\n",
    "print(\"\\nFinished making the pizza!\")    "
   ]
  },
  {
   "cell_type": "code",
   "execution_count": 24,
   "id": "ed7a741a",
   "metadata": {},
   "outputs": [
    {
     "name": "stdout",
     "output_type": "stream",
     "text": [
      "Adding mushrooms.\n",
      "Sorry, we are out of the green peppers right now.\n",
      "Adding extra cheese.\n",
      "\n",
      "Finished making the pizza!\n"
     ]
    }
   ],
   "source": [
    "requested_toppings = ['mushrooms', 'green peppers', 'extra cheese']\n",
    "for requested_topping in requested_toppings:\n",
    "    if requested_topping == 'green peppers':\n",
    "        print('Sorry, we are out of the green peppers right now.')\n",
    "    else:\n",
    "        print(f\"Adding {requested_topping}.\")\n",
    "\n",
    "print(\"\\nFinished making the pizza!\")        "
   ]
  },
  {
   "cell_type": "code",
   "execution_count": 25,
   "id": "07a51142",
   "metadata": {},
   "outputs": [
    {
     "name": "stdout",
     "output_type": "stream",
     "text": [
      "\n",
      "Are you sure you want a plain pizza?\n"
     ]
    }
   ],
   "source": [
    "requested_toppings = []\n",
    "\n",
    "if requested_toppings:\n",
    "    for requested_topping in requested_toppings:\n",
    "        print(f\"Adding {requested_topping}.\")\n",
    "    print(\"\\nFinished making the pizza!\")\n",
    "else:\n",
    "    print(\"\\nAre you sure you want a plain pizza?\")"
   ]
  },
  {
   "cell_type": "code",
   "execution_count": 26,
   "id": "adb50c6e",
   "metadata": {},
   "outputs": [
    {
     "name": "stdout",
     "output_type": "stream",
     "text": [
      "Adding mushrooms\n",
      "Sorry, we don't have french fries\n",
      "Adding extra cheese\n",
      "\n",
      "Finished making the pizza!\n"
     ]
    }
   ],
   "source": [
    "available_toppings = ['mushrooms', 'olives', 'green peppers', 'pepperoni', 'pineapple', 'extra cheese']\n",
    "requested_toppings = ['mushrooms', 'french fries', 'extra cheese']\n",
    "\n",
    "for requested_topping in requested_toppings:\n",
    "    if requested_topping in available_toppings:\n",
    "        print(f\"Adding {requested_topping}\")\n",
    "    else:\n",
    "        print(f\"Sorry, we don't have {requested_topping}\")\n",
    "\n",
    "print(\"\\nFinished making the pizza!\")      "
   ]
  },
  {
   "cell_type": "code",
   "execution_count": 27,
   "id": "eb977306",
   "metadata": {},
   "outputs": [
    {
     "name": "stdout",
     "output_type": "stream",
     "text": [
      "Hello Jaden, thank you for logging in again\n",
      "Hello Admin, would you like to see a status report?\n",
      "Hello Kelly, thank you for logging in again\n",
      "Hello Cyrus, thank you for logging in again\n"
     ]
    }
   ],
   "source": [
    "# exercise\n",
    "users = ['Jaden', 'admin', 'Kelly', 'Cyrus']\n",
    "\n",
    "for user in users:\n",
    "    if user == 'admin':\n",
    "        print(f\"Hello {user.title()}, would you like to see a status report?\")\n",
    "    else:   \n",
    "        print(f\"Hello {user.title()}, thank you for logging in again\")\n",
    "        "
   ]
  },
  {
   "cell_type": "code",
   "execution_count": 29,
   "id": "96638cfa",
   "metadata": {},
   "outputs": [
    {
     "name": "stdout",
     "output_type": "stream",
     "text": [
      "We need to find some users!\n"
     ]
    }
   ],
   "source": [
    "# exercise\n",
    "users = []\n",
    "\n",
    "if users:\n",
    "    for user in users:\n",
    "        if user == 'admin':\n",
    "            print(f\"Hello {user.title()}, would you like to see a status report?\")\n",
    "        else:\n",
    "            print(f\"Hello {user.title()}, thank you for logging in again\")\n",
    "else:\n",
    "    print(f\"We need to find some users!\")"
   ]
  },
  {
   "cell_type": "code",
   "execution_count": 31,
   "id": "376e4e20",
   "metadata": {},
   "outputs": [
    {
     "name": "stdout",
     "output_type": "stream",
     "text": [
      "Jaden is already taken, please enter new username\n",
      "Steven is available, we are creating account for you...\n",
      "Cyrus is already taken, please enter new username\n",
      "Freddy is available, we are creating account for you...\n",
      "Sebastian is available, we are creating account for you...\n",
      "Done!!!\n"
     ]
    }
   ],
   "source": [
    "# exercise\n",
    "current_users = ['Jaden', 'admin', 'Kelly', 'Cyrus', \"Mike\"]\n",
    "\n",
    "current_lower_users = [usr.lower() for usr in current_users]\n",
    "new_users = ['Jaden','Steven', 'Cyrus', 'Freddy', 'Sebastian']\n",
    "\n",
    "for new_user in new_users:\n",
    "    if new_user.lower() in current_lower_users:\n",
    "        print(f\"{new_user} is already taken, please enter new username\")\n",
    "    else:\n",
    "        print(f\"{new_user} is available, we are creating account for you...\")\n",
    "\n",
    "print(\"Done!!!\")        \n",
    "        \n",
    "\n"
   ]
  },
  {
   "cell_type": "code",
   "execution_count": 34,
   "id": "5796e3c7",
   "metadata": {},
   "outputs": [
    {
     "name": "stdout",
     "output_type": "stream",
     "text": [
      "1st\n",
      "2nd\n",
      "3rd\n",
      "4th\n",
      "5th\n",
      "6th\n",
      "7th\n",
      "8th\n",
      "9th\n"
     ]
    }
   ],
   "source": [
    "#exercise\n",
    "lst_nums = list(range(1,10))\n",
    "\n",
    "for num in lst_nums:\n",
    "    if num in list(range(4,10)):\n",
    "        print(f\"{num}th\")\n",
    "    elif num == 1:\n",
    "        print(\"1st\")\n",
    "    elif num == 2:\n",
    "        print(\"2nd\")\n",
    "    else:\n",
    "        print(\"3rd\")\n",
    "        "
   ]
  },
  {
   "cell_type": "code",
   "execution_count": null,
   "id": "49c39556",
   "metadata": {},
   "outputs": [],
   "source": []
  }
 ],
 "metadata": {
  "kernelspec": {
   "display_name": "Python 3 (ipykernel)",
   "language": "python",
   "name": "python3"
  },
  "language_info": {
   "codemirror_mode": {
    "name": "ipython",
    "version": 3
   },
   "file_extension": ".py",
   "mimetype": "text/x-python",
   "name": "python",
   "nbconvert_exporter": "python",
   "pygments_lexer": "ipython3",
   "version": "3.9.13"
  }
 },
 "nbformat": 4,
 "nbformat_minor": 5
}
