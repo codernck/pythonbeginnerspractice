{
 "cells": [
  {
   "cell_type": "code",
   "execution_count": 1,
   "id": "cde039e7",
   "metadata": {},
   "outputs": [
    {
     "name": "stdout",
     "output_type": "stream",
     "text": [
      "200\n",
      "50\n"
     ]
    }
   ],
   "source": [
    "# tuples - are same like lists but we cannot change the list\n",
    "# tuples are immutable but lists are mutable\n",
    "# tuple is immutable and cannot be changed\n",
    "dimensions_tuple = (200, 50)\n",
    "print(dimensions_tuple[0])\n",
    "print(dimensions_tuple[1])"
   ]
  },
  {
   "cell_type": "code",
   "execution_count": 3,
   "id": "19eaef9b",
   "metadata": {},
   "outputs": [
    {
     "ename": "NameError",
     "evalue": "name 'dimensions' is not defined",
     "output_type": "error",
     "traceback": [
      "\u001b[1;31m---------------------------------------------------------------------------\u001b[0m",
      "\u001b[1;31mNameError\u001b[0m                                 Traceback (most recent call last)",
      "\u001b[1;32m~\\AppData\\Local\\Temp\\ipykernel_19184\\3293842180.py\u001b[0m in \u001b[0;36m<module>\u001b[1;34m\u001b[0m\n\u001b[0;32m      1\u001b[0m \u001b[1;31m# tuples are immutable\u001b[0m\u001b[1;33m\u001b[0m\u001b[1;33m\u001b[0m\u001b[0m\n\u001b[1;32m----> 2\u001b[1;33m \u001b[0mdimensions\u001b[0m\u001b[1;33m[\u001b[0m\u001b[1;36m0\u001b[0m\u001b[1;33m]\u001b[0m \u001b[1;33m=\u001b[0m \u001b[1;36m250\u001b[0m \u001b[1;31m# will give error\u001b[0m\u001b[1;33m\u001b[0m\u001b[1;33m\u001b[0m\u001b[0m\n\u001b[0m",
      "\u001b[1;31mNameError\u001b[0m: name 'dimensions' is not defined"
     ]
    }
   ],
   "source": [
    "# tuples are immutable\n",
    "dimensions[0] = 250 # will give error"
   ]
  },
  {
   "cell_type": "code",
   "execution_count": 4,
   "id": "e2cd96e8",
   "metadata": {},
   "outputs": [
    {
     "name": "stdout",
     "output_type": "stream",
     "text": [
      "(3,)\n"
     ]
    }
   ],
   "source": [
    "# tuple with one element\n",
    "my_t = (3,)\n",
    "print(my_t)"
   ]
  },
  {
   "cell_type": "code",
   "execution_count": 5,
   "id": "192afa7a",
   "metadata": {},
   "outputs": [
    {
     "name": "stdout",
     "output_type": "stream",
     "text": [
      "200\n",
      "50\n"
     ]
    }
   ],
   "source": [
    "# looping through all values in a tuple\n",
    "dimensions = (200, 50)\n",
    "for dimension in dimensions:\n",
    "    print(dimension)"
   ]
  },
  {
   "cell_type": "code",
   "execution_count": 6,
   "id": "d3c8bb5e",
   "metadata": {},
   "outputs": [
    {
     "name": "stdout",
     "output_type": "stream",
     "text": [
      "Original dimensions\n",
      "200\n",
      "50\n",
      "\n",
      "Modified dimensions\n",
      "400\n",
      "100\n"
     ]
    }
   ],
   "source": [
    "# we can re-define a tupe even though we cannot change the elements of the tuple\n",
    "dimensions = (200, 50)\n",
    "print('Original dimensions')\n",
    "for dimension in dimensions:\n",
    "    print(dimension)\n",
    "\n",
    "dimensions = (400, 100)\n",
    "print(\"\\nModified dimensions\")\n",
    "for dimension in dimensions:\n",
    "    print(dimension)"
   ]
  },
  {
   "cell_type": "code",
   "execution_count": 10,
   "id": "caeafa85",
   "metadata": {},
   "outputs": [
    {
     "name": "stdout",
     "output_type": "stream",
     "text": [
      "The items of the buffet are\n",
      "\trice\n",
      "\tdal\n",
      "\tcurd\n",
      "\tsweet\n",
      "\tvegetable fry\n",
      "The items of the buffet are\n",
      "\trice\n",
      "\tdal\n",
      "\tcurd\n",
      "\tsweet\n",
      "\tbutter milk\n"
     ]
    }
   ],
   "source": [
    "# exercise\n",
    "buffet_items = ('rice', 'dal', 'curd','sweet','vegetable fry')\n",
    "print('The items of the buffet are')\n",
    "for buffet_item in buffet_items:\n",
    "    print(f\"\\t{buffet_item}\")\n",
    "    \n",
    "buffet_items = ('rice', 'dal', 'curd','sweet','butter milk')    \n",
    "print('The items of the buffet are')\n",
    "for buffet_item in buffet_items:\n",
    "    print(f\"\\t{buffet_item}\")"
   ]
  },
  {
   "cell_type": "code",
   "execution_count": null,
   "id": "6cf7af7c",
   "metadata": {},
   "outputs": [],
   "source": [
    "# to know about the styling guidelines in python use the link https://peps.python.org/pep-0008/"
   ]
  },
  {
   "cell_type": "code",
   "execution_count": null,
   "id": "ee81d988",
   "metadata": {},
   "outputs": [],
   "source": []
  }
 ],
 "metadata": {
  "kernelspec": {
   "display_name": "Python 3 (ipykernel)",
   "language": "python",
   "name": "python3"
  },
  "language_info": {
   "codemirror_mode": {
    "name": "ipython",
    "version": 3
   },
   "file_extension": ".py",
   "mimetype": "text/x-python",
   "name": "python",
   "nbconvert_exporter": "python",
   "pygments_lexer": "ipython3",
   "version": "3.9.13"
  }
 },
 "nbformat": 4,
 "nbformat_minor": 5
}
