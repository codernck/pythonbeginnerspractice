{
 "cells": [
  {
   "cell_type": "code",
   "execution_count": 2,
   "id": "ec8b5e56",
   "metadata": {},
   "outputs": [
    {
     "name": "stdout",
     "output_type": "stream",
     "text": [
      "alice\n",
      "david\n",
      "carolina\n"
     ]
    }
   ],
   "source": [
    "# Lists advanced\n",
    "# looping the lists\n",
    "magicians = ['alice', 'david', 'carolina']\n",
    "for magician in magicians:\n",
    "    print(magician)"
   ]
  },
  {
   "cell_type": "code",
   "execution_count": 3,
   "id": "41568d4e",
   "metadata": {},
   "outputs": [
    {
     "name": "stdout",
     "output_type": "stream",
     "text": [
      "Alice, that was a great trick!\n",
      "David, that was a great trick!\n",
      "Carolina, that was a great trick!\n"
     ]
    }
   ],
   "source": [
    "# custom message\n",
    "magicians = ['alice', 'david', 'carolina']\n",
    "for magician in magicians:\n",
    "    print(f\"{magician.title()}, that was a great trick!\")"
   ]
  },
  {
   "cell_type": "code",
   "execution_count": 4,
   "id": "1e241cb4",
   "metadata": {},
   "outputs": [
    {
     "name": "stdout",
     "output_type": "stream",
     "text": [
      "Alice, that was a great trick!\n",
      "I can't wait to see your next trick, Alice.\n",
      "\n",
      "David, that was a great trick!\n",
      "I can't wait to see your next trick, David.\n",
      "\n",
      "Carolina, that was a great trick!\n",
      "I can't wait to see your next trick, Carolina.\n",
      "\n"
     ]
    }
   ],
   "source": [
    "# custom message\n",
    "magicians = ['alice', 'david', 'carolina']\n",
    "for magician in magicians:\n",
    "    print(f\"{magician.title()}, that was a great trick!\")\n",
    "    print(f\"I can't wait to see your next trick, {magician.title()}.\\n\")"
   ]
  },
  {
   "cell_type": "code",
   "execution_count": 5,
   "id": "1df82670",
   "metadata": {},
   "outputs": [
    {
     "name": "stdout",
     "output_type": "stream",
     "text": [
      "Alice, that was a great trick!\n",
      "I can't wait to see your next trick, Alice.\n",
      "\n",
      "David, that was a great trick!\n",
      "I can't wait to see your next trick, David.\n",
      "\n",
      "Carolina, that was a great trick!\n",
      "I can't wait to see your next trick, Carolina.\n",
      "\n",
      "Thank you, everyone. THat was a great magic show!\n"
     ]
    }
   ],
   "source": [
    "# custom message\n",
    "magicians = ['alice', 'david', 'carolina']\n",
    "for magician in magicians:\n",
    "    print(f\"{magician.title()}, that was a great trick!\")\n",
    "    print(f\"I can't wait to see your next trick, {magician.title()}.\\n\")\n",
    "\n",
    "print('Thank you, everyone. THat was a great magic show!')    "
   ]
  },
  {
   "cell_type": "code",
   "execution_count": 7,
   "id": "9c087ffc",
   "metadata": {},
   "outputs": [
    {
     "name": "stdout",
     "output_type": "stream",
     "text": [
      "Alice, that was a great trick!\n",
      "I can't wait to see your next trick, Alice.\n",
      "\n",
      "Thank you, everyone. THat was a great magic show!\n",
      "David, that was a great trick!\n",
      "I can't wait to see your next trick, David.\n",
      "\n",
      "Thank you, everyone. THat was a great magic show!\n",
      "Carolina, that was a great trick!\n",
      "I can't wait to see your next trick, Carolina.\n",
      "\n",
      "Thank you, everyone. THat was a great magic show!\n"
     ]
    }
   ],
   "source": [
    "# custom message\n",
    "magicians = ['alice', 'david', 'carolina']\n",
    "for magician in magicians:\n",
    "    print(f\"{magician.title()}, that was a great trick!\")\n",
    "    print(f\"I can't wait to see your next trick, {magician.title()}.\\n\")\n",
    "\n",
    "    # this indentation after for will make it iterate repeat for each of the item in loop\n",
    "    print('Thank you, everyone. THat was a great magic show!')   "
   ]
  },
  {
   "cell_type": "code",
   "execution_count": 13,
   "id": "6b71c2a2",
   "metadata": {},
   "outputs": [
    {
     "name": "stdout",
     "output_type": "stream",
     "text": [
      "I like farmhouse pizza.\n",
      "I dont like pizzas so much\n",
      "\n",
      "I like veg extreme pizza.\n",
      "I dont like pizzas so much\n",
      "\n",
      "I like chese loaded pizza.\n",
      "I dont like pizzas so much\n",
      "\n"
     ]
    }
   ],
   "source": [
    "# exercise\n",
    "pizzas = ['farmhouse', 'veg extreme', 'chese loaded']\n",
    "for pizza in pizzas:\n",
    "    print(f\"I like {pizza} pizza.\")\n",
    "    print(f\"I dont like pizzas so much\\n\")"
   ]
  },
  {
   "cell_type": "code",
   "execution_count": 17,
   "id": "ceb477ba",
   "metadata": {},
   "outputs": [
    {
     "name": "stdout",
     "output_type": "stream",
     "text": [
      "1\n",
      "2\n",
      "3\n",
      "4\n",
      "-------------------\n",
      "\n",
      "1\n",
      "2\n",
      "3\n",
      "4\n",
      "5\n",
      "-------------------\n",
      "\n",
      "0\n",
      "1\n",
      "2\n",
      "3\n",
      "4\n",
      "5\n"
     ]
    }
   ],
   "source": [
    "# range function\n",
    "# range will not include 5 here\n",
    "for value in range(1, 5):\n",
    "    print(value)\n",
    "print(\"-------------------\\n\")\n",
    "\n",
    "# print numbers from 1 to 5\n",
    "for value in range(1, 6):\n",
    "    print(value)\n",
    "\n",
    "print(\"-------------------\\n\")\n",
    "\n",
    "# print numbers from 1 to 5\n",
    "for value in range(0, 6):\n",
    "    print(value)\n",
    "    \n"
   ]
  },
  {
   "cell_type": "code",
   "execution_count": 18,
   "id": "57dbd057",
   "metadata": {},
   "outputs": [
    {
     "name": "stdout",
     "output_type": "stream",
     "text": [
      "[1, 2, 3, 4, 5]\n"
     ]
    }
   ],
   "source": [
    "# using range to make a list\n",
    "numbers = list(range(1,6))  # 1 to 5\n",
    "print(numbers)"
   ]
  },
  {
   "cell_type": "code",
   "execution_count": 19,
   "id": "bbc5b9ed",
   "metadata": {},
   "outputs": [
    {
     "name": "stdout",
     "output_type": "stream",
     "text": [
      "[2, 4, 6, 8, 10]\n"
     ]
    }
   ],
   "source": [
    "# here start-number; maximum-number; increment-value\n",
    "# starts at 2 goes till 11 and adds 2 each time\n",
    "even_numbers = list(range(2, 11, 2))\n",
    "print(even_numbers)"
   ]
  },
  {
   "cell_type": "code",
   "execution_count": 21,
   "id": "f7e8527c",
   "metadata": {},
   "outputs": [
    {
     "name": "stdout",
     "output_type": "stream",
     "text": [
      "[1, 4, 9, 16, 25, 36, 49, 64, 81, 100]\n"
     ]
    }
   ],
   "source": [
    "squares = []\n",
    "for value in range(1, 11):\n",
    "    square = value ** 2\n",
    "    squares.append(square)\n",
    "\n",
    "print(squares)    "
   ]
  },
  {
   "cell_type": "code",
   "execution_count": 22,
   "id": "fbfdd5a1",
   "metadata": {},
   "outputs": [
    {
     "name": "stdout",
     "output_type": "stream",
     "text": [
      "[1, 4, 9, 16, 25, 36, 49, 64, 81, 100]\n"
     ]
    }
   ],
   "source": [
    "# cindensed code\n",
    "squares = []\n",
    "for value in range(1, 11):\n",
    "    squares.append(value ** 2)\n",
    "\n",
    "print(squares)    "
   ]
  },
  {
   "cell_type": "code",
   "execution_count": 25,
   "id": "8c69cbbc",
   "metadata": {},
   "outputs": [
    {
     "name": "stdout",
     "output_type": "stream",
     "text": [
      "0\n",
      "9\n",
      "45\n"
     ]
    }
   ],
   "source": [
    "# statistics with list of numbers\n",
    "digits = [1,2,3,4,5,6,7,8,9,0]\n",
    "print(min(digits))\n",
    "\n",
    "print(max(digits))\n",
    "\n",
    "print(sum(digits))"
   ]
  },
  {
   "cell_type": "code",
   "execution_count": 27,
   "id": "4a09103d",
   "metadata": {},
   "outputs": [
    {
     "name": "stdout",
     "output_type": "stream",
     "text": [
      "[1, 4, 9, 16, 25, 36, 49, 64, 81, 100]\n"
     ]
    }
   ],
   "source": [
    "# list comprehension\n",
    "squares = [value**2 for value in range(1, 11)]\n",
    "print(squares)"
   ]
  },
  {
   "cell_type": "code",
   "execution_count": 28,
   "id": "80cf7725",
   "metadata": {},
   "outputs": [
    {
     "name": "stdout",
     "output_type": "stream",
     "text": [
      "1\n",
      "2\n",
      "3\n",
      "4\n",
      "5\n",
      "6\n",
      "7\n",
      "8\n",
      "9\n",
      "10\n",
      "11\n",
      "12\n",
      "13\n",
      "14\n",
      "15\n",
      "16\n",
      "17\n",
      "18\n",
      "19\n",
      "20\n"
     ]
    }
   ],
   "source": [
    "# exercise\n",
    "# count 1 to 20 inclusive\n",
    "for value in range(1, 21):\n",
    "    print(value)"
   ]
  },
  {
   "cell_type": "code",
   "execution_count": 42,
   "id": "cb70bfaa",
   "metadata": {},
   "outputs": [
    {
     "name": "stdout",
     "output_type": "stream",
     "text": [
      "500000500000\n",
      "1\n",
      "1000000\n"
     ]
    }
   ],
   "source": [
    "summation = 0\n",
    "mil_list = list(range(1, 1000001))\n",
    "for value in mil_list:\n",
    "    summation = summation + value\n",
    "\n",
    "print(summation)    \n",
    "\n",
    "# verification\n",
    "print(min(mil_list))\n",
    "print(max(mil_list))\n",
    "\n",
    "# print(sum(mil_list))\n"
   ]
  },
  {
   "cell_type": "code",
   "execution_count": 45,
   "id": "081376e3",
   "metadata": {},
   "outputs": [
    {
     "name": "stdout",
     "output_type": "stream",
     "text": [
      "1\n",
      "3\n",
      "5\n",
      "7\n",
      "9\n",
      "11\n",
      "13\n",
      "15\n",
      "17\n",
      "19\n"
     ]
    }
   ],
   "source": [
    "odd_nums = list(range(1,21,2))\n",
    "for oddnum in odd_nums:\n",
    "    print(oddnum)"
   ]
  },
  {
   "cell_type": "code",
   "execution_count": 46,
   "id": "34ee7454",
   "metadata": {},
   "outputs": [
    {
     "name": "stdout",
     "output_type": "stream",
     "text": [
      "3\n",
      "6\n",
      "9\n",
      "12\n",
      "15\n",
      "18\n",
      "21\n",
      "24\n",
      "27\n",
      "30\n"
     ]
    }
   ],
   "source": [
    "three_prods = list(range(3, 31, 3))\n",
    "for prd in three_prods:\n",
    "    print(prd)"
   ]
  },
  {
   "cell_type": "code",
   "execution_count": 47,
   "id": "899306a4",
   "metadata": {},
   "outputs": [
    {
     "name": "stdout",
     "output_type": "stream",
     "text": [
      "[1, 8, 27, 64, 125, 216, 343, 512, 729, 1000]\n"
     ]
    }
   ],
   "source": [
    "cubes = []\n",
    "for val in range(1,11):\n",
    "    cc = val ** 3\n",
    "    cubes.append(cc)\n",
    "print(cubes)    "
   ]
  },
  {
   "cell_type": "code",
   "execution_count": 48,
   "id": "e14e769b",
   "metadata": {},
   "outputs": [
    {
     "name": "stdout",
     "output_type": "stream",
     "text": [
      "[1, 8, 27, 64, 125, 216, 343, 512, 729, 1000]\n"
     ]
    }
   ],
   "source": [
    "# list comprehension\n",
    "lst_cube = [val ** 3 for val in range(1,11)]\n",
    "print(lst_cube)"
   ]
  },
  {
   "cell_type": "code",
   "execution_count": 51,
   "id": "2d3b19c7",
   "metadata": {},
   "outputs": [
    {
     "name": "stdout",
     "output_type": "stream",
     "text": [
      "['charles', 'martina', 'mechael']\n",
      "['charles', 'martina', 'mechael', 'florence']\n"
     ]
    }
   ],
   "source": [
    "# slicing a list\n",
    "players = ['charles', 'martina', 'mechael', 'florence', 'eli']\n",
    "print(players[0:3])   # same like range will not include 3rd index element\n",
    "\n",
    "print(players[0:4])"
   ]
  },
  {
   "cell_type": "code",
   "execution_count": 52,
   "id": "3e12e57f",
   "metadata": {},
   "outputs": [
    {
     "name": "stdout",
     "output_type": "stream",
     "text": [
      "['charles', 'martina', 'mechael', 'florence']\n"
     ]
    }
   ],
   "source": [
    "# omiting the index to take default\n",
    "players = ['charles', 'martina', 'mechael', 'florence', 'eli']\n",
    "print(players[:4])  # takes start index default as zero"
   ]
  },
  {
   "cell_type": "code",
   "execution_count": 53,
   "id": "d16c7e42",
   "metadata": {},
   "outputs": [
    {
     "name": "stdout",
     "output_type": "stream",
     "text": [
      "['mechael', 'florence', 'eli']\n"
     ]
    }
   ],
   "source": [
    "# omiting the index to take default\n",
    "players = ['charles', 'martina', 'mechael', 'florence', 'eli']\n",
    "print(players[2:])  # takes end index default as last element"
   ]
  },
  {
   "cell_type": "code",
   "execution_count": 54,
   "id": "ae05c04f",
   "metadata": {},
   "outputs": [
    {
     "name": "stdout",
     "output_type": "stream",
     "text": [
      "['charles', 'martina', 'mechael', 'florence', 'eli']\n"
     ]
    }
   ],
   "source": [
    "# to didplay all the elements \n",
    "players = ['charles', 'martina', 'mechael', 'florence', 'eli']\n",
    "print(players[:])  # takes end index default as last element"
   ]
  },
  {
   "cell_type": "code",
   "execution_count": 55,
   "id": "ead47c47",
   "metadata": {},
   "outputs": [
    {
     "name": "stdout",
     "output_type": "stream",
     "text": [
      "['mechael', 'florence', 'eli']\n"
     ]
    }
   ],
   "source": [
    "# default start as the negative index\n",
    "players = ['charles', 'martina', 'mechael', 'florence', 'eli']\n",
    "print(players[-3:])"
   ]
  },
  {
   "cell_type": "code",
   "execution_count": 56,
   "id": "cf7158f3",
   "metadata": {},
   "outputs": [
    {
     "name": "stdout",
     "output_type": "stream",
     "text": [
      "Charles\n",
      "Martina\n",
      "Mechael\n"
     ]
    }
   ],
   "source": [
    "# looping the list  using the splice\n",
    "players = ['charles', 'martina', 'mechael', 'florence', 'eli']\n",
    "for player in players[:3]:\n",
    "    print(player.title())"
   ]
  },
  {
   "cell_type": "code",
   "execution_count": 2,
   "id": "e8c065bd",
   "metadata": {},
   "outputs": [
    {
     "name": "stdout",
     "output_type": "stream",
     "text": [
      "My favorite foods are:\n",
      "['pizza', 'falafel', 'carrot', 'cake']\n",
      "\n",
      "My friends favorite foods are:\n",
      "['pizza', 'falafel', 'carrot', 'cake']\n",
      "\n",
      "\n",
      "My favorite foods are: ['pizza', 'falafel', 'carrot', 'cake', 'canoli']\n",
      "\n",
      "My friends favorite foods are: ['pizza', 'falafel', 'carrot', 'cake', 'ice cream']\n"
     ]
    }
   ],
   "source": [
    "# copying a list\n",
    "my_foods = ['pizza', 'falafel', 'carrot', 'cake']\n",
    "friend_foods = my_foods[:]\n",
    "\n",
    "print(\"My favorite foods are:\")\n",
    "print(my_foods)\n",
    "\n",
    "print(\"\\nMy friends favorite foods are:\")\n",
    "print(friend_foods)\n",
    "\n",
    "# validating if the lists are different\n",
    "my_foods.append('canoli')\n",
    "friend_foods.append('ice cream')\n",
    "\n",
    "print(\"\\n\\nMy favorite foods are:\",my_foods)\n",
    "print(\"\\nMy friends favorite foods are:\",friend_foods)"
   ]
  },
  {
   "cell_type": "code",
   "execution_count": 74,
   "id": "d2769bbf",
   "metadata": {},
   "outputs": [
    {
     "name": "stdout",
     "output_type": "stream",
     "text": [
      "['pizza', 'falafel', 'carrot', 'cake']\n",
      "['pizza', 'falafel', 'carrot', 'cake']\n",
      "['pizza', 'falafel', 'carrot', 'cake', 'ice cream']\n",
      "['pizza', 'falafel', 'carrot', 'cake', 'ice cream']\n",
      "\n",
      "My Foods\n",
      "pizza\n",
      "falafel\n",
      "carrot\n",
      "cake\n",
      "ice cream\n",
      "\n",
      "Friends Foods\n",
      "pizza\n",
      "falafel\n",
      "carrot\n",
      "cake\n",
      "ice cream\n"
     ]
    }
   ],
   "source": [
    "# if we copy like this it will point to the actual list\n",
    "my_foods = ['pizza', 'falafel', 'carrot', 'cake']\n",
    "friend_foods = my_foods  # gives error\n",
    "print(my_foods)\n",
    "print(friend_foods)\n",
    "\n",
    "# appending the food item\n",
    "friend_foods.append('ice cream')\n",
    "\n",
    "print(my_foods)\n",
    "print(friend_foods)\n",
    "\n",
    "print(\"\\nMy Foods\")\n",
    "for myfood in my_foods:\n",
    "    print(myfood)\n",
    "\n",
    "print(\"\\nFriends Foods\")\n",
    "for friendfood in friend_foods:\n",
    "    print(friendfood)\n",
    "\n",
    "# we can see that even though we are adding new item to the friends list the my_foods also gets updated"
   ]
  },
  {
   "cell_type": "code",
   "execution_count": 69,
   "id": "dff90cfe",
   "metadata": {},
   "outputs": [
    {
     "name": "stdout",
     "output_type": "stream",
     "text": [
      "['sleeping', 'singing', 'reading', 'listening']\n",
      "['reading', 'listening', 'playing']\n",
      "['playing', 'running', 'walking']\n"
     ]
    }
   ],
   "source": [
    "# exercise\n",
    "fun_list = ['sleeping', 'singing', 'reading', 'listening', 'playing','running', 'walking']\n",
    "print(fun_list[:4]) # first 3 elements\n",
    "\n",
    "print(fun_list[2:5]) # middle 3 elements\n",
    "\n",
    "print(fun_list[-3:]) # last 3 elements"
   ]
  }
 ],
 "metadata": {
  "kernelspec": {
   "display_name": "Python 3 (ipykernel)",
   "language": "python",
   "name": "python3"
  },
  "language_info": {
   "codemirror_mode": {
    "name": "ipython",
    "version": 3
   },
   "file_extension": ".py",
   "mimetype": "text/x-python",
   "name": "python",
   "nbconvert_exporter": "python",
   "pygments_lexer": "ipython3",
   "version": "3.9.13"
  }
 },
 "nbformat": 4,
 "nbformat_minor": 5
}
